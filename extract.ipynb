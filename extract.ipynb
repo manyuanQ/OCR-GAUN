{
 "cells": [
  {
   "cell_type": "code",
   "execution_count": 1,
   "metadata": {},
   "outputs": [
    {
     "name": "stdout",
     "output_type": "stream",
     "text": [
      "Requirement already satisfied: pytesseract in c:\\users\\lmy\\appdata\\local\\packages\\pythonsoftwarefoundation.python.3.9_qbz5n2kfra8p0\\localcache\\local-packages\\python39\\site-packages (0.3.10)\n",
      "Requirement already satisfied: packaging>=21.3 in c:\\users\\lmy\\appdata\\local\\packages\\pythonsoftwarefoundation.python.3.9_qbz5n2kfra8p0\\localcache\\local-packages\\python39\\site-packages (from pytesseract) (21.3)\n",
      "Requirement already satisfied: Pillow>=8.0.0 in c:\\users\\lmy\\appdata\\local\\packages\\pythonsoftwarefoundation.python.3.9_qbz5n2kfra8p0\\localcache\\local-packages\\python39\\site-packages (from pytesseract) (9.0.1)\n",
      "Requirement already satisfied: pyparsing!=3.0.5,>=2.0.2 in c:\\users\\lmy\\appdata\\local\\packages\\pythonsoftwarefoundation.python.3.9_qbz5n2kfra8p0\\localcache\\local-packages\\python39\\site-packages (from packaging>=21.3->pytesseract) (3.0.7)\n"
     ]
    },
    {
     "name": "stderr",
     "output_type": "stream",
     "text": [
      "WARNING: You are using pip version 22.0.4; however, version 23.0.1 is available.\n",
      "You should consider upgrading via the 'C:\\Users\\lmy\\AppData\\Local\\Microsoft\\WindowsApps\\PythonSoftwareFoundation.Python.3.9_qbz5n2kfra8p0\\python.exe -m pip install --upgrade pip' command.\n"
     ]
    },
    {
     "name": "stdout",
     "output_type": "stream",
     "text": [
      "Requirement already satisfied: pdf2image in c:\\users\\lmy\\appdata\\local\\packages\\pythonsoftwarefoundation.python.3.9_qbz5n2kfra8p0\\localcache\\local-packages\\python39\\site-packages (1.16.2)\n",
      "Requirement already satisfied: pillow in c:\\users\\lmy\\appdata\\local\\packages\\pythonsoftwarefoundation.python.3.9_qbz5n2kfra8p0\\localcache\\local-packages\\python39\\site-packages (from pdf2image) (9.0.1)\n"
     ]
    },
    {
     "name": "stderr",
     "output_type": "stream",
     "text": [
      "WARNING: You are using pip version 22.0.4; however, version 23.0.1 is available.\n",
      "You should consider upgrading via the 'C:\\Users\\lmy\\AppData\\Local\\Microsoft\\WindowsApps\\PythonSoftwareFoundation.Python.3.9_qbz5n2kfra8p0\\python.exe -m pip install --upgrade pip' command.\n"
     ]
    }
   ],
   "source": [
    "# install packages\n",
    "!pip install pytesseract\n",
    "!pip install pdf2image"
   ]
  },
  {
   "cell_type": "code",
   "execution_count": 2,
   "metadata": {},
   "outputs": [],
   "source": [
    "# import packages\n",
    "import pytesseract\n",
    "from pdf2image import convert_from_path\n",
    "import os\n",
    "import re\n",
    "from datetime import datetime\n",
    "import pandas as pd"
   ]
  },
  {
   "cell_type": "code",
   "execution_count": 3,
   "metadata": {},
   "outputs": [],
   "source": [
    "# Function to extract text from a PDF file\n",
    "pytesseract.pytesseract.tesseract_cmd = r'C:\\Program Files\\Tesseract-OCR\\tesseract.exe'  \n",
    "\n",
    "def extract_text_from_pdf(pdf_path):\n",
    "    # Convert the PDF to a list of PIL Image objects\n",
    "    images = convert_from_path(pdf_path)\n",
    "    text_list = []\n",
    "    # Loop through each page of the PDF and extract text using Tesseract\n",
    "    for image in images:\n",
    "        text = pytesseract.image_to_string(image)\n",
    "        text_list.append(text)\n",
    "    # Combine text from all pages into a single string\n",
    "    text = '\\n'.join(text_list)\n",
    "    return text"
   ]
  },
  {
   "cell_type": "code",
   "execution_count": 285,
   "metadata": {},
   "outputs": [],
   "source": [
    "# Define the regex pattern to match the date\n",
    "footnote_pattern = r'^(\\*|\\d(?![./])|\\d{1}/)\\s.*'\n",
    "title_pattern = r\"1\\.\\s+\\w+(\\s+\\w+)*\""
   ]
  },
  {
   "cell_type": "code",
   "execution_count": 11,
   "metadata": {},
   "outputs": [],
   "source": [
    "date_pattern = r'\\b\\d{1,2}\\s+(?:January|February|March|April|May|June|July|August|September|October|November|December)\\s+\\d{4}\\b'\n",
    "# extract year (A) and date (J)\n",
    "def extract_date(text):\n",
    "    date_match = re.search(date_pattern, text)\n",
    "    if date_match:\n",
    "        date = date_match.group(0)\n",
    "        date_obj = datetime.strptime(date, '%d %B %Y')\n",
    "        # change mm/dd/yyyy format\n",
    "        new_date = date_obj.strftime('%m/%d/%Y') #column J\n",
    "        year = new_date[-4:] #column A\n",
    "    else:\n",
    "        year = date = 'N/A'\n",
    "        #print(\"No date found\")\n",
    "    return year, date"
   ]
  },
  {
   "cell_type": "code",
   "execution_count": 5,
   "metadata": {},
   "outputs": [],
   "source": [
    "def remove_empty(text):\n",
    "    text = text.replace('\\n', ' ')\n",
    "    text = text.strip()\n",
    "    if text == '':\n",
    "        return 'N/A'\n",
    "    else:\n",
    "        return text\n",
    "    \n",
    "    \n",
    "council_pattern1 = r\"(?<=session).*?(?=Agenda)\"\n",
    "council_pattern2 = r'([A-Z][A-Za-z]+\\s)+(COUNCIL|Council)'\n",
    "\n",
    "# extract council/committe name (B)\n",
    "def extract_council(text):\n",
    "    match1 = re.search(council_pattern1, text, re.DOTALL)\n",
    "    match2 = re.search(council_pattern2, text, re.DOTALL)\n",
    "    council = 'N/A'\n",
    "    # handle the council after session\n",
    "    if match1:\n",
    "        council = match1.group(0).strip()\n",
    "    # handle the council before session\n",
    "    if match2:\n",
    "        council = match2.group(0).strip()\n",
    "    if 'Economic and Social' in text and 'COMMISSION ON HUMAN RIGHTS' in text:\n",
    "        council = 'Economic and Social Council'\n",
    "    return remove_empty(council)"
   ]
  },
  {
   "cell_type": "code",
   "execution_count": 6,
   "metadata": {},
   "outputs": [],
   "source": [
    "session_pattern = r'(?P<session>[\\w-]+\\ssession)'\n",
    "# extract session (C)\n",
    "def extract_session(text):\n",
    "    match = re.search(session_pattern, text)\n",
    "    if match:\n",
    "        session = match.group(\"session\")\n",
    "    else:\n",
    "        session = 'N/A'\n",
    "        print(\"Session information not found.\")\n",
    "    return session"
   ]
  },
  {
   "cell_type": "code",
   "execution_count": 7,
   "metadata": {},
   "outputs": [],
   "source": [
    "agenda_pattern = r'Agenda item (\\d+)(?: \\((\\w+)\\))?(?:\\n\\n)?'\n",
    "draft_pattern = r': *([\\w ]*|[\\n]*)? ?draft' #': *([\\w ]*)?draft'\n",
    "\n",
    "# extract Agenda item (D), Agenda detail (E), and countries (F)\n",
    "def extract_agenda_countries(text):\n",
    "    match1 = re.search(agenda_pattern, text)\n",
    "    if match1:\n",
    "        agenda_item_number = match1.group(1)\n",
    "        agenda_item_letter = match1.group(2)\n",
    "        if agenda_item_letter is not None:\n",
    "            agenda_item = f\"{agenda_item_number} ({agenda_item_letter})\"\n",
    "        else:\n",
    "            agenda_item = agenda_item_number\n",
    "        \n",
    "        start_index = match1.end()\n",
    "\n",
    "        match2 = re.search(draft_pattern, text[start_index:], re.DOTALL)\n",
    "        if match2:\n",
    "            end_index = start_index + match2.start()\n",
    "            content = text[start_index:end_index]\n",
    "            parts = content.split(\"\\n\\n\")\n",
    "            parts = [remove_empty(s) for s in parts]\n",
    "            agenda_detail = parts[0]\n",
    "            countries = ''\n",
    "            for part in parts[1:]:\n",
    "                if part[-2] == ':':\n",
    "                    countries += part[:-2]\n",
    "                else:\n",
    "                    countries += part\n",
    "        else:\n",
    "            print('match2 error')\n",
    "    # else:\n",
    "    #     agenda_item = 'N/A'\n",
    "    #     print(\"No match found\")\n",
    "    # if countries[-1] == ':':\n",
    "    #     countries = countries[:-1]\n",
    "    \n",
    "    return agenda_item, remove_empty(agenda_detail), remove_empty(countries)"
   ]
  },
  {
   "cell_type": "code",
   "execution_count": 8,
   "metadata": {},
   "outputs": [],
   "source": [
    "def split_text(text):\n",
    "    # delete extracted text\n",
    "    split_text = re.split(draft_pattern, text, flags=re.IGNORECASE)\n",
    "    #print(split_text)\n",
    "    #print(len(split_text))\n",
    "    part1_text = split_text[0]\n",
    "    part2_text = split_text[2]\n",
    "    return part1_text, part2_text"
   ]
  },
  {
   "cell_type": "code",
   "execution_count": 22,
   "metadata": {},
   "outputs": [],
   "source": [
    "text_head_pattern = r'(The General Assembly,|The Commission on Human Rights,|1\\.)'\n",
    "number_title_pattern = r'^\\s*(\\d{4})?/?\\W*(.*)'\n",
    "# extract body title number (G) and body title （H）\n",
    "def extract_body_title(text):\n",
    "    title_body_text = re.split(text_head_pattern, text)\n",
    "    title_text = title_body_text[0]\n",
    "    #print(title_text)\n",
    "    title_text = title_text.replace('\\n', ' ')\n",
    "    \n",
    "    match1 = re.search(r'[A-Z\\d]', title_text)\n",
    "    if match1:\n",
    "        index = match1.start()\n",
    "        title_text = title_text[index-1:]\n",
    "        print(title_text) \n",
    "    else:\n",
    "        print('No uppercase letter or digit found.')\n",
    "\n",
    "    match2 = re.match(number_title_pattern, title_text)\n",
    "    if match2:\n",
    "        title_number = match2.group(1)\n",
    "        if title_number == None:\n",
    "            title_number = 'N/A'\n",
    "        title = match2.group(2)\n",
    "    else:\n",
    "        title_number = 'N/A'\n",
    "        title = 'N/A'\n",
    "\n",
    "    return title_number, remove_empty(title)"
   ]
  },
  {
   "cell_type": "code",
   "execution_count": 300,
   "metadata": {},
   "outputs": [],
   "source": [
    "# Function to classify text into column A to N\n",
    "def classify_text_to_column(text):\n",
    "    result = []\n",
    "\n",
    "    part1_text, part2_text = split_text(text)\n",
    "    # get year(A) and date(J)\n",
    "    year, date = extract_date(part1_text)\n",
    "    result.append(year)\n",
    "\n",
    "\n",
    "    # get council/committe name (B)\n",
    "    council = extract_council(part1_text)\n",
    "    result.append(council)\n",
    "\n",
    "\n",
    "    # get session (C)\n",
    "    session = extract_session(part1_text)\n",
    "    result.append(session)\n",
    "\n",
    "\n",
    "    # get agenda item (D), agend detail (E), and countries (F)\n",
    "    agenda_item, agenda_detail, countries = extract_agenda_countries(text)\n",
    "    result.append(agenda_item)\n",
    "    result.append(agenda_detail)\n",
    "    result.append(countries)\n",
    "\n",
    "\n",
    "    # get title number (G) and title body (H)\n",
    "    title_number, title_text = extract_body_title(part2_text)\n",
    "    result.append(title_number)\n",
    "    result.append(title_text)\n",
    "\n",
    "\n",
    "    # Body text (I)\n",
    "    # extract the text content from the second non-empty paragraph\n",
    "    body_text = ''\n",
    "    footnote = ''\n",
    "    footnote_idx = 1\n",
    "    for paragraph in paragraphs[idx:]:\n",
    "        #for line in paragraph.split('\\n'):\n",
    "            # exclude lines containing specific patterns\n",
    "        paragraph = paragraph.replace(\"\\n\", \" \")\n",
    "        match = re.search(footnote_pattern, paragraph)\n",
    "        if match:\n",
    "            if match.group(0)[0] == '*':\n",
    "                footnote += match.group(0)\n",
    "            elif len(match.group(0)) < 90 and match.group(0)[0] == str(footnote_idx):\n",
    "                footnote += match.group(0)\n",
    "                footnote_idx += 1\n",
    "        else:\n",
    "            #if not re.search(r'^(\\d{2}-\\d{5}|[A-Za-z]/\\d{2}/[A-Za-z]\\.\\d|[A-Za-z ]+Please recycle|Page \\d{1})', paragraph):\n",
    "            if len(paragraph) > 50 or paragraph == \"The General Assembly,\":\n",
    "                body_text += paragraph.strip() + ' '\n",
    "            else:\n",
    "                if len(paragraph) == 0:\n",
    "                    continue\n",
    "                if paragraph[0] == str(footnote_idx) or paragraph[0] == \"*\":\n",
    "                    footnote_idx += 1\n",
    "                    footnote += paragraph \n",
    "    result.append(body_text)\n",
    "\n",
    "    # date (J)\n",
    "    result.append(date)\n",
    "    \n",
    "    # # file name (K) and country (L) will be obtained outside\n",
    "\n",
    "    # footnote (M)\n",
    "    result.append(footnote)\n",
    "\n",
    "    # scanned (N), cannot know \n",
    "    if int(year) > 1990:\n",
    "        scanned = 'yes'\n",
    "    else:\n",
    "        scanned = 'no'\n",
    "    result.append(scanned)\n",
    "    \n",
    "    return result"
   ]
  },
  {
   "cell_type": "code",
   "execution_count": 107,
   "metadata": {},
   "outputs": [
    {
     "name": "stdout",
     "output_type": "stream",
     "text": [
      "---------------Afghanistan---------------\n",
      "./Dataset/Afghanistan/1994_163336.pdf\n",
      "./Dataset/Afghanistan/1994_163532.pdf\n",
      "./Dataset/Afghanistan/1994_163619.pdf\n",
      "./Dataset/Afghanistan/1994_163690.pdf\n",
      "./Dataset/Afghanistan/1994_163780.pdf\n",
      "./Dataset/Afghanistan/1994_163787.pdf\n",
      "./Dataset/Afghanistan/1994_163866.pdf\n",
      "./Dataset/Afghanistan/1994_163874.pdf\n",
      "./Dataset/Afghanistan/1994_163890.pdf\n",
      "./Dataset/Afghanistan/1994_163906.pdf\n"
     ]
    }
   ],
   "source": [
    "# Path to the folder containing the PDF files\n",
    "pdf_folder = './Dataset'\n",
    "\n",
    "# Path to the folder where the CSV files will be saved\n",
    "csv_folder = './csv_folder'\n",
    "\n",
    "# csv file column list\n",
    "column_list = ['year', 'Council', 'Session', 'Agenda item', 'Agenda detail', 'cosponsored countries', \n",
    "               'body title number',\t'body title detail', 'body text', 'date', 'footnote', 'scanned', \n",
    "               'file', 'filecountry']\n",
    "\n",
    "# Loop through each folder and PDF file and extract text\n",
    "for country_folder in os.listdir(pdf_folder):\n",
    "    print('---------------' + country_folder + '---------------' )\n",
    "    if not os.path.isdir(os.path.join(pdf_folder, country_folder)):\n",
    "        continue\n",
    "    csv_path = os.path.join(csv_folder, f\"{country_folder}.csv\")\n",
    "    rows = []\n",
    "    count = 0\n",
    "    # Loop through each file \n",
    "    for pdf_file in os.listdir(os.path.join(pdf_folder, country_folder)):\n",
    "        if not pdf_file.endswith('.pdf'):\n",
    "            continue\n",
    "        # check if this file is old-version\n",
    "        year = int(pdf_file.split('_')[0])\n",
    "        if year < 1994:\n",
    "            continue\n",
    "\n",
    "        pdf_path = os.path.join(pdf_folder, country_folder, pdf_file).replace('\\\\', '/')\n",
    "        print(pdf_path)\n",
    "        # try:\n",
    "        text = extract_text_from_pdf(pdf_path)\n",
    "        text_columns = classify_text_to_column(text)\n",
    "        row = text_columns + [pdf_file[:-4], country_folder] #add column K and L\n",
    "        \n",
    "        # check if year was extracted correctly\n",
    "        if row[0] != year:\n",
    "            row[0] = year\n",
    "        \n",
    "        rows.append(row)\n",
    "        count += 1\n",
    "        #print(rows)\n",
    "        df = pd.DataFrame(rows, columns = column_list)\n",
    "        df.to_csv(csv_path, index = False) \n",
    "        if count == 10:\n",
    "            break\n",
    "        # except:\n",
    "        #     print(f\"Error extracting text from {pdf_path}\")\n",
    "        #     continue\n",
    "    break\n",
    "    # Write the rows to the CSV file\n",
    "    df = pd.DataFrame(rows, columns = column_list)\n",
    "    df.to_csv(csv_path, index = False)  "
   ]
  },
  {
   "attachments": {},
   "cell_type": "markdown",
   "metadata": {},
   "source": [
    "### TEST"
   ]
  },
  {
   "cell_type": "code",
   "execution_count": 23,
   "metadata": {},
   "outputs": [
    {
     "name": "stdout",
     "output_type": "stream",
     "text": [
      "No uppercase letter or digit found.\n",
      "('N/A', 'resolution')\n",
      " A/49/L.8  \n",
      "('N/A', 'A/49/L.8')\n",
      " Towards full integration of persons with disabilities in society:  implementation of the Standard Rules on the Equalization of  Opportunities for Persons with Disabilities, and of the long-term  strategy to implement the world programme of action concerning disabled persons to the year 2000 and beyond  \n",
      "('N/A', 'Towards full integration of persons with disabilities in society:  implementation of the Standard Rules on the Equalization of  Opportunities for Persons with Disabilities, and of the long-term  strategy to implement the world programme of action concerning disabled persons to the year 2000 and beyond')\n",
      " Emergency international assistance for peace, normalcy and rehabilitation in Tajikistan  \n",
      "('N/A', 'Emergency international assistance for peace, normalcy and rehabilitation in Tajikistan')\n",
      " 2000/... Tolerance and pluralism as indivisible elements in the promotion and protection of human rights  \n",
      "('2000', 'Tolerance and pluralism as indivisible elements in the promotion and protection of human rights')\n",
      " 2006/... Cooperation with the Office of the United Nations High Commissioner for Human Rights: Afghanistan  The Human Rights Council decides to adopt the following text:  “The Human Rights Council welcomes the report of the United Nations High Commissioner for Human Rights on the situation of human rights in Afghanistan and on the achievements of technical assistance in the field of human rights (E/CN.4/2006/108), including the assessment of the human rights situation of Afghanistan contained therein, and the ongoing cooperation between the Government of Afghanistan and the Office of the High Commissioner, as well as with the special procedures of the Human Rights Council, to address the human rights situation in  Afghanistan, and urges its continued cooperation. The Council requests the  * Non-member States of the Human Rights Council.  GE.06-14533 (E) 041006  A/HRC/2/L.46  page 2  High Commissioner to continue, in cooperation with the United Nations Assistance Mission in Afghanistan, to monitor the human rights situation in Afghanistan, provide and expand advisory services and technical cooperation in the field of human rights and the rule of law, and report regularly to the Council on the situation of human rights in Afghanistan, paying special attention to the rights of women, and on the achievements of  technical assistance in the field of human rights.” \n",
      "('2006', 'Cooperation with the Office of the United Nations High Commissioner for Human Rights: Afghanistan  The Human Rights Council decides to adopt the following text:  “The Human Rights Council welcomes the report of the United Nations High Commissioner for Human Rights on the situation of human rights in Afghanistan and on the achievements of technical assistance in the field of human rights (E/CN.4/2006/108), including the assessment of the human rights situation of Afghanistan contained therein, and the ongoing cooperation between the Government of Afghanistan and the Office of the High Commissioner, as well as with the special procedures of the Human Rights Council, to address the human rights situation in  Afghanistan, and urges its continued cooperation. The Council requests the  * Non-member States of the Human Rights Council.  GE.06-14533 (E) 041006  A/HRC/2/L.46  page 2  High Commissioner to continue, in cooperation with the United Nations Assistance Mission in Afghanistan, to monitor the human rights situation in Afghanistan, provide and expand advisory services and technical cooperation in the field of human rights and the rule of law, and report regularly to the Council on the situation of human rights in Afghanistan, paying special attention to the rights of women, and on the achievements of  technical assistance in the field of human rights.”')\n"
     ]
    }
   ],
   "source": [
    "test_list = ['1994_163532.pdf', '1994_163787.pdf', '1994_163866.pdf', '1999_395501.pdf', '2000_412394.pdf', '2006_584361.pdf'] \n",
    "for test_pdf in test_list:\n",
    "    #if test_pdf == '1999_395501.pdf':\n",
    "    test_text = extract_text_from_pdf(f'./Dataset/Afghanistan/{test_pdf}')\n",
    "        #print(test_text)\n",
    "        #break\n",
    "    p1, p2 = split_text(test_text)\n",
    "        #print(p1)\n",
    "        #print(p2)\n",
    "        # test year and date\n",
    "    #print(extract_date(p1))\n",
    "    #print(extract_council(p1))\n",
    "    #print(extract_session(p1))\n",
    "    #print(extract_agenda_countries(test_text))\n",
    "    #remain = split_text(test_text)\n",
    "    print(extract_body_title(p2))"
   ]
  },
  {
   "cell_type": "code",
   "execution_count": 164,
   "metadata": {},
   "outputs": [
    {
     "name": "stdout",
     "output_type": "stream",
     "text": [
      "N/A\n",
      "Towards full integration of persons with disabilities in society:  implementation of the Standard Rules on the Equalization of  Opportunities for Persons with Disabilities, and of the long-term  strategy to implement the world programme of action concerning disabled persons to the year 2000 and beyond  \n"
     ]
    }
   ],
   "source": [
    "# delete extracted text\n",
    "split_text = re.split(draft_pattern, test, flags=re.IGNORECASE)\n",
    "remain_text = split_text[1]\n",
    "\n",
    "\n",
    "\n",
    "\n",
    "# Body title (H)\n",
    "# split the text into paragraphs\n",
    "body_title = ''\n",
    "paragraphs = remain_text.split('\\n\\n')\n",
    "body_idx = 1\n",
    "body_title = ''\n",
    "\n",
    "# for paragraph in paragraphs[1:]:\n",
    "#     # check if this paragraph contains the beginning pattern of the body text\n",
    "#     # lines = remain_text.split('\\n')\n",
    "#     # for line in lines:\n",
    "#     #     if re.search(text_head_pattern, line):\n",
    "#     #         break\n",
    "#     print(paragraph)\n",
    "#     if re.search(text_head_pattern, paragraph):\n",
    "#         break\n",
    "#     else:\n",
    "#         body_title += paragraph\n",
    "#         body_idx +=1\n",
    "# if body_idx ==1:\n",
    "#     body_title = 'N/A'\n",
    "# else:\n",
    "#     body_title = body_title.replace('\\n', ' ') \n",
    "# print(\"Body title: \", body_title)\n",
    "\n",
    "\n",
    "# # Body text (I)\n",
    "# # extract the text content from the second non-empty paragraph\n",
    "# body_text = ''\n",
    "# footnote = ''\n",
    "# footnote_idx = 1\n",
    "# for paragraph in paragraphs[body_idx:]:\n",
    "#     #for line in paragraph.split('\\n'):\n",
    "#         # exclude lines containing specific patterns\n",
    "#     paragraph = paragraph.replace(\"\\n\", \" \")\n",
    "#     match = re.search(footnote_pattern, paragraph)\n",
    "#     if match:\n",
    "#         if match.group(0)[0] == '*':\n",
    "#             footnote += match.group(0)\n",
    "#         elif len(match.group(0)) < 90 and match.group(0)[0] == str(footnote_idx):\n",
    "#             footnote += match.group(0)\n",
    "#             footnote_idx += 1\n",
    "#     else:\n",
    "#         #if not re.search(r'^(\\d{2}-\\d{5}|[A-Za-z]/\\d{2}/[A-Za-z]\\.\\d|[A-Za-z ]+Please recycle|Page \\d{1})', paragraph):\n",
    "#         if len(paragraph) > 50 or paragraph == \"The General Assembly,\":\n",
    "#             body_text += paragraph.strip() + ' '\n",
    "#         else:\n",
    "#             if len(paragraph) == 0:\n",
    "#                 continue\n",
    "#             if (paragraph[0] == str(footnote_idx) and paragraph[1] == '/') or paragraph[0] == \"*\":\n",
    "#                 footnote_idx += 1\n",
    "#                 footnote += paragraph \n",
    "#             else:\n",
    "#                 body_text += paragraph.strip() + ' '\n",
    "# print(footnote)\n"
   ]
  },
  {
   "cell_type": "code",
   "execution_count": 20,
   "metadata": {},
   "outputs": [
    {
     "name": "stdout",
     "output_type": "stream",
     "text": [
      " 2004 Jumps over the Lazy Dog\n"
     ]
    }
   ],
   "source": [
    "\n",
    "text = 'the quick brown fox 2004 Jumps over the Lazy Dog'\n",
    "match = re.search(r'[A-Z\\d]', text)\n",
    "\n",
    "if match:\n",
    "    index = match.start()\n",
    "    result = text[index-1:]\n",
    "    print(result)  # output: Jumps over the Lazy Dog\n",
    "else:\n",
    "    print('No uppercase letter or digit found.')\n",
    "# use regular expression to find the index of the first uppercase letter or digit\n"
   ]
  },
  {
   "cell_type": "code",
   "execution_count": 17,
   "metadata": {},
   "outputs": [
    {
     "data": {
      "text/plain": [
       "'umps over the Lazy Dog'"
      ]
     },
     "execution_count": 17,
     "metadata": {},
     "output_type": "execute_result"
    }
   ],
   "source": [
    "result"
   ]
  },
  {
   "cell_type": "code",
   "execution_count": null,
   "metadata": {},
   "outputs": [],
   "source": []
  }
 ],
 "metadata": {
  "kernelspec": {
   "display_name": "Python 3",
   "language": "python",
   "name": "python3"
  },
  "language_info": {
   "codemirror_mode": {
    "name": "ipython",
    "version": 3
   },
   "file_extension": ".py",
   "mimetype": "text/x-python",
   "name": "python",
   "nbconvert_exporter": "python",
   "pygments_lexer": "ipython3",
   "version": "3.9.13"
  },
  "orig_nbformat": 4,
  "vscode": {
   "interpreter": {
    "hash": "e458c25decc5a85e5a64c322411a3149390d0cc49d8006d301337b209f73e58a"
   }
  }
 },
 "nbformat": 4,
 "nbformat_minor": 2
}
