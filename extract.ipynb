{
 "cells": [
  {
   "cell_type": "code",
   "execution_count": 1,
   "metadata": {},
   "outputs": [
    {
     "name": "stdout",
     "output_type": "stream",
     "text": [
      "Requirement already satisfied: pytesseract in c:\\users\\lmy\\appdata\\local\\packages\\pythonsoftwarefoundation.python.3.9_qbz5n2kfra8p0\\localcache\\local-packages\\python39\\site-packages (0.3.10)\n",
      "Requirement already satisfied: Pillow>=8.0.0 in c:\\users\\lmy\\appdata\\local\\packages\\pythonsoftwarefoundation.python.3.9_qbz5n2kfra8p0\\localcache\\local-packages\\python39\\site-packages (from pytesseract) (9.0.1)\n",
      "Requirement already satisfied: packaging>=21.3 in c:\\users\\lmy\\appdata\\local\\packages\\pythonsoftwarefoundation.python.3.9_qbz5n2kfra8p0\\localcache\\local-packages\\python39\\site-packages (from pytesseract) (21.3)\n",
      "Requirement already satisfied: pyparsing!=3.0.5,>=2.0.2 in c:\\users\\lmy\\appdata\\local\\packages\\pythonsoftwarefoundation.python.3.9_qbz5n2kfra8p0\\localcache\\local-packages\\python39\\site-packages (from packaging>=21.3->pytesseract) (3.0.7)\n"
     ]
    },
    {
     "name": "stderr",
     "output_type": "stream",
     "text": [
      "WARNING: You are using pip version 22.0.4; however, version 23.0.1 is available.\n",
      "You should consider upgrading via the 'C:\\Users\\lmy\\AppData\\Local\\Microsoft\\WindowsApps\\PythonSoftwareFoundation.Python.3.9_qbz5n2kfra8p0\\python.exe -m pip install --upgrade pip' command.\n"
     ]
    },
    {
     "name": "stdout",
     "output_type": "stream",
     "text": [
      "Requirement already satisfied: pdf2image in c:\\users\\lmy\\appdata\\local\\packages\\pythonsoftwarefoundation.python.3.9_qbz5n2kfra8p0\\localcache\\local-packages\\python39\\site-packages (1.16.2)\n",
      "Requirement already satisfied: pillow in c:\\users\\lmy\\appdata\\local\\packages\\pythonsoftwarefoundation.python.3.9_qbz5n2kfra8p0\\localcache\\local-packages\\python39\\site-packages (from pdf2image) (9.0.1)\n"
     ]
    },
    {
     "name": "stderr",
     "output_type": "stream",
     "text": [
      "WARNING: You are using pip version 22.0.4; however, version 23.0.1 is available.\n",
      "You should consider upgrading via the 'C:\\Users\\lmy\\AppData\\Local\\Microsoft\\WindowsApps\\PythonSoftwareFoundation.Python.3.9_qbz5n2kfra8p0\\python.exe -m pip install --upgrade pip' command.\n"
     ]
    }
   ],
   "source": [
    "# install packages\n",
    "!pip install pytesseract\n",
    "!pip install pdf2image"
   ]
  },
  {
   "cell_type": "code",
   "execution_count": 2,
   "metadata": {},
   "outputs": [],
   "source": [
    "# import packages\n",
    "import pytesseract\n",
    "from pdf2image import convert_from_path\n",
    "import os\n",
    "import re\n",
    "from datetime import datetime\n",
    "import pandas as pd"
   ]
  },
  {
   "cell_type": "code",
   "execution_count": 3,
   "metadata": {},
   "outputs": [],
   "source": [
    "# Function to extract text from a PDF file\n",
    "pytesseract.pytesseract.tesseract_cmd = r'C:\\Program Files\\Tesseract-OCR\\tesseract.exe'  \n",
    "\n",
    "def extract_text_from_pdf(pdf_path):\n",
    "    # Convert the PDF to a list of PIL Image objects\n",
    "    images = convert_from_path(pdf_path)\n",
    "    text_list = []\n",
    "    # Loop through each page of the PDF and extract text using Tesseract\n",
    "    for image in images:\n",
    "        text = pytesseract.image_to_string(image)\n",
    "        text_list.append(text)\n",
    "    # Combine text from all pages into a single string\n",
    "    text = '\\n'.join(text_list)\n",
    "    return text"
   ]
  },
  {
   "cell_type": "code",
   "execution_count": 243,
   "metadata": {},
   "outputs": [],
   "source": [
    "# Define the regex pattern to match the date\n",
    "date_pattern = r'\\b\\d{1,2}\\s+(?:January|February|March|April|May|June|July|August|September|October|November|December)\\s+\\d{4}\\b'\n",
    "#council_pattern = r'(?i)(\\b[A-Za-z]+\\s(?:(\\n)Council|(\\n)Committee|(\\n)COMMITTEE)\\b)'\n",
    "council_pattern = r\"(?<=session).*?(?=Agenda)\"\n",
    "council_pattern2 = r'([A-Z]+\\s)+COUNCIL'\n",
    "session_pattern = r'(?P<session>[\\w-]+\\ssession)'\n",
    "agenda_pattern = r'Agenda item (\\d+)(?: \\((\\w+)\\))?(?:\\n\\n)?'\n",
    "draft_pattern = r'draft(?:\\n\\n)?\\s?resolution'\n",
    "#agenda_detail_pattern = r'Agenda item\\s+(\\d+)\\s+\\(.+\\).*?(draft(?:\\n\\n)?\\s?resolution)' #(?<=Agenda item \\d+ \\(.\\)\\n).*?(?=draft(?:\\n)?resolution|\\n\\n)'\n",
    "footnote_pattern = r'^(\\*|\\d(?![./])|\\d{1}/)\\s.*'\n",
    "title_pattern = r\"1\\.\\s+\\w+(\\s+\\w+)*\"\n",
    "text_head_pattern = r'(The General Assembly,|The Commission on Human Rights,|1\\.)'\n",
    "number_title_pattern = r'^\\s*(\\d{4})?/?\\W*(.*)'"
   ]
  },
  {
   "cell_type": "code",
   "execution_count": 167,
   "metadata": {},
   "outputs": [],
   "source": [
    "# extract year (A) and date (J)\n",
    "def extract_date(text, pattern):\n",
    "    match = re.search(pattern, text)\n",
    "    if match:\n",
    "        date = match.group(0)\n",
    "        date_obj = datetime.strptime(date, '%d %B %Y')\n",
    "        # change mm/dd/yyyy format\n",
    "        new_date = date_obj.strftime('%m/%d/%Y') #column J\n",
    "        year = new_date[-4:] #column A\n",
    "    else:\n",
    "        year, date = 'N/A'\n",
    "        print(\"No date found\")\n",
    "    return year, date"
   ]
  },
  {
   "cell_type": "code",
   "execution_count": 251,
   "metadata": {},
   "outputs": [],
   "source": [
    "def remove_empty(text):\n",
    "    text = text.replace('\\n', ' ')\n",
    "    if text == '' or text == ' ':\n",
    "        return 'N/A'\n",
    "    else:\n",
    "        return text\n",
    "    \n",
    "# extract council/committe name (B)\n",
    "def extract_council(text, pattern1, pattern2):\n",
    "    match1 = re.search(pattern1, text, re.DOTALL)\n",
    "    match2 = re.search(pattern2, text, re.DOTALL)\n",
    "    council = 'N/A'\n",
    "    # handle the council after session\n",
    "    if match1:\n",
    "        council = match1.group(0).strip()\n",
    "    # handle the council before session\n",
    "    if match2:\n",
    "        council = match2.group(0).strip()\n",
    "    return remove_empty(council)"
   ]
  },
  {
   "cell_type": "code",
   "execution_count": 170,
   "metadata": {},
   "outputs": [],
   "source": [
    "# Function to classify text into column A to N\n",
    "def classify_text_to_column(text):\n",
    "    result = []\n",
    "\n",
    "    # get year(A) and date(J)\n",
    "    year, date = extract_date(text, date_pattern)\n",
    "    result.append(year)\n",
    "\n",
    "\n",
    "    # get council/committe name (B)\n",
    "    council = extract_council(text, council_pattern)\n",
    "    result.append(council)\n",
    "\n",
    "\n",
    "    # extract session (C)\n",
    "    match = re.search(session_pattern, text)\n",
    "    if match:\n",
    "        session = match.group(\"session\")\n",
    "    else:\n",
    "        session = 'N/A'\n",
    "        print(\"Session information not found.\")\n",
    "    result.append(session)\n",
    "\n",
    "\n",
    "    # extract Agenda item (D), Agenda detail (E), and countries (F)\n",
    "    agenda_match = re.search(agenda_pattern, text)\n",
    "    if match:\n",
    "        agenda_item_number = agenda_match.group(1)\n",
    "        agenda_item_letter = agenda_match.group(2)\n",
    "        if agenda_item_letter is not None:\n",
    "            agenda_item = f\"{agenda_item_number} ({agenda_item_letter})\"\n",
    "        else:\n",
    "            agenda_item = agenda_item_number\n",
    "        result.append(agenda_item)\n",
    "        \n",
    "        start_index = agenda_match.end()\n",
    "        draft_match = re.search(draft_pattern, text[start_index:], re.DOTALL)\n",
    "        if draft_match:\n",
    "            end_index = start_index + draft_match.start()\n",
    "            content = text[start_index:end_index]\n",
    "            #print(content)\n",
    "            parts = content.split(\"\\n\\n\")\n",
    "            #print(parts)\n",
    "            parts = [s.replace('\\n', '') for s in parts]\n",
    "            result.append(parts[0])\n",
    "            result.append(parts[1][:-2])\n",
    "    else:\n",
    "        agenda_item = 'N/A'\n",
    "        print(\"No match found\")\n",
    "        result.append(agenda_item)\n",
    "\n",
    "\n",
    "    # delete extracted text\n",
    "    split_text = re.split(draft_pattern, text, flags=re.IGNORECASE)\n",
    "    remain_text = split_text[1]\n",
    "    #print(remain_text)\n",
    "\n",
    "    # body title number (G) and body title （H）\n",
    "    title_body_text = re.split(text_head_pattern, remain_text)\n",
    "    title_text = title_body_text[0]\n",
    "    #match = re.search(r'[A-Z]', title_text)\n",
    "    title_text = title_text.replace('\\n', ' ')\n",
    "    # print(title_text)\n",
    "    match = re.match(number_title_pattern, title_text)\n",
    "    if match:\n",
    "        title_number = match.group(1)\n",
    "        if title_number == None:\n",
    "            title_number = 'N/A'\n",
    "        title = match.group(2)\n",
    "    else:\n",
    "        title_number, title = 'N/A'\n",
    "\n",
    "    result.append(title_number)\n",
    "    result.append(title)\n",
    "\n",
    "\n",
    "    # Body text (I)\n",
    "    # extract the text content from the second non-empty paragraph\n",
    "    body_text = ''\n",
    "    footnote = ''\n",
    "    footnote_idx = 1\n",
    "    for paragraph in paragraphs[idx:]:\n",
    "        #for line in paragraph.split('\\n'):\n",
    "            # exclude lines containing specific patterns\n",
    "        paragraph = paragraph.replace(\"\\n\", \" \")\n",
    "        match = re.search(footnote_pattern, paragraph)\n",
    "        if match:\n",
    "            if match.group(0)[0] == '*':\n",
    "                footnote += match.group(0)\n",
    "            elif len(match.group(0)) < 90 and match.group(0)[0] == str(footnote_idx):\n",
    "                footnote += match.group(0)\n",
    "                footnote_idx += 1\n",
    "        else:\n",
    "            #if not re.search(r'^(\\d{2}-\\d{5}|[A-Za-z]/\\d{2}/[A-Za-z]\\.\\d|[A-Za-z ]+Please recycle|Page \\d{1})', paragraph):\n",
    "            if len(paragraph) > 50 or paragraph == \"The General Assembly,\":\n",
    "                body_text += paragraph.strip() + ' '\n",
    "            else:\n",
    "                if len(paragraph) == 0:\n",
    "                    continue\n",
    "                if paragraph[0] == str(footnote_idx) or paragraph[0] == \"*\":\n",
    "                    footnote_idx += 1\n",
    "                    footnote += paragraph \n",
    "    result.append(body_text)\n",
    "\n",
    "    # date (J)\n",
    "    result.append(date)\n",
    "    \n",
    "    # # file name (K) and country (L) will be obtained outside\n",
    "\n",
    "    # footnote (M)\n",
    "    result.append(footnote)\n",
    "\n",
    "    # scanned (N), cannot know \n",
    "    if int(year) > 1990:\n",
    "        scanned = 'yes'\n",
    "    else:\n",
    "        scanned = 'no'\n",
    "    result.append(scanned)\n",
    "    \n",
    "    return result"
   ]
  },
  {
   "cell_type": "code",
   "execution_count": 107,
   "metadata": {},
   "outputs": [
    {
     "name": "stdout",
     "output_type": "stream",
     "text": [
      "---------------Afghanistan---------------\n",
      "./Dataset/Afghanistan/1994_163336.pdf\n",
      "./Dataset/Afghanistan/1994_163532.pdf\n",
      "./Dataset/Afghanistan/1994_163619.pdf\n",
      "./Dataset/Afghanistan/1994_163690.pdf\n",
      "./Dataset/Afghanistan/1994_163780.pdf\n",
      "./Dataset/Afghanistan/1994_163787.pdf\n",
      "./Dataset/Afghanistan/1994_163866.pdf\n",
      "./Dataset/Afghanistan/1994_163874.pdf\n",
      "./Dataset/Afghanistan/1994_163890.pdf\n",
      "./Dataset/Afghanistan/1994_163906.pdf\n"
     ]
    }
   ],
   "source": [
    "# Path to the folder containing the PDF files\n",
    "pdf_folder = './Dataset'\n",
    "\n",
    "# Path to the folder where the CSV files will be saved\n",
    "csv_folder = './csv_folder'\n",
    "\n",
    "# csv file column list\n",
    "column_list = ['year', 'Council', 'Session', 'Agenda item', 'Agenda detail', 'cosponsored countries', \n",
    "               'body title number',\t'body title detail', 'body text', 'date', 'footnote', 'scanned', \n",
    "               'file', 'filecountry']\n",
    "\n",
    "# Loop through each folder and PDF file and extract text\n",
    "for country_folder in os.listdir(pdf_folder):\n",
    "    print('---------------' + country_folder + '---------------' )\n",
    "    if not os.path.isdir(os.path.join(pdf_folder, country_folder)):\n",
    "        continue\n",
    "    csv_path = os.path.join(csv_folder, f\"{country_folder}.csv\")\n",
    "    rows = []\n",
    "    count = 0\n",
    "    # Loop through each file \n",
    "    for pdf_file in os.listdir(os.path.join(pdf_folder, country_folder)):\n",
    "        if not pdf_file.endswith('.pdf'):\n",
    "            continue\n",
    "        # check if this file is old-version\n",
    "        year = int(pdf_file.split('_')[0])\n",
    "        if year < 1994:\n",
    "            continue\n",
    "\n",
    "        pdf_path = os.path.join(pdf_folder, country_folder, pdf_file).replace('\\\\', '/')\n",
    "        print(pdf_path)\n",
    "        # try:\n",
    "        text = extract_text_from_pdf(pdf_path)\n",
    "        text_columns = classify_text_to_column(text)\n",
    "        row = text_columns + [pdf_file[:-4], country_folder] #add column K and L\n",
    "        rows.append(row)\n",
    "        count += 1\n",
    "        #print(rows)\n",
    "        df = pd.DataFrame(rows, columns = column_list)\n",
    "        df.to_csv(csv_path, index = False) \n",
    "        if count == 10:\n",
    "            break\n",
    "        # except:\n",
    "        #     print(f\"Error extracting text from {pdf_path}\")\n",
    "        #     continue\n",
    "    break\n",
    "    # Write the rows to the CSV file\n",
    "    df = pd.DataFrame(rows, columns = column_list)\n",
    "    df.to_csv(csv_path, index = False)  "
   ]
  },
  {
   "cell_type": "code",
   "execution_count": 235,
   "metadata": {},
   "outputs": [
    {
     "data": {
      "text/plain": [
       "'General Assembly Distr.\\nLIMITED\\n\\nA/HRC/2/L.46\\n3 October 2006\\n\\nOriginal: ENGLISH\\n\\nHUMAN RIGHTS COUNCIL\\nSecond session\\nAgenda item 2\\n\\nIMPLEMENTATION OF GENERAL ASSEMBLY RESOLUTION 60/251\\nOF 15 MARCH 2006 ENTITLED “HUMAN RIGHTS COUNCIL”\\n\\nFinland (on behalf of the European Union)\\nand Afghanistan*: draft decision\\n\\n2006/... Cooperation with the Office of the United Nations\\nHigh Commissioner for Human Rights: Afghanistan\\n\\nThe Human Rights Council decides to adopt the following text:\\n\\n“The Human Rights Council welcomes the report of the United Nations\\nHigh Commissioner for Human Rights on the situation of human rights in Afghanistan\\nand on the achievements of technical assistance in the field of human rights\\n(E/CN.4/2006/108), including the assessment of the human rights situation of\\nAfghanistan contained therein, and the ongoing cooperation between the Government\\nof Afghanistan and the Office of the High Commissioner, as well as with the special\\nprocedures of the Human Rights Council, to address the human rights situation in\\n\\nAfghanistan, and urges its continued cooperation. The Council requests the\\n\\n* Non-member States of the Human Rights Council.\\n\\nGE.06-14533 (E) 041006\\n\\nA/HRC/2/L.46\\n\\npage 2\\n\\nHigh Commissioner to continue, in cooperation with the United Nations Assistance\\nMission in Afghanistan, to monitor the human rights situation in Afghanistan, provide\\nand expand advisory services and technical cooperation in the field of human rights and\\nthe rule of law, and report regularly to the Council on the situation of human rights in\\nAfghanistan, paying special attention to the rights of women, and on the achievements of\\n\\ntechnical assistance in the field of human rights.”\\n'"
      ]
     },
     "execution_count": 235,
     "metadata": {},
     "output_type": "execute_result"
    }
   ],
   "source": [
    "test3 = extract_text_from_pdf('./Dataset/Afghanistan/2006_584361.pdf')\n",
    "test3"
   ]
  },
  {
   "cell_type": "code",
   "execution_count": 252,
   "metadata": {},
   "outputs": [
    {
     "data": {
      "text/plain": [
       "'HUMAN RIGHTS COUNCIL'"
      ]
     },
     "execution_count": 252,
     "metadata": {},
     "output_type": "execute_result"
    }
   ],
   "source": [
    "extract_council(test3, council_pattern, council_pattern2)"
   ]
  },
  {
   "attachments": {},
   "cell_type": "markdown",
   "metadata": {},
   "source": [
    "### TEST"
   ]
  },
  {
   "cell_type": "code",
   "execution_count": 253,
   "metadata": {},
   "outputs": [
    {
     "name": "stdout",
     "output_type": "stream",
     "text": [
      "SPECIAL POLITICAL AND DECOLONIZATION COMMITTEE (FOURTH COMMITTEE)\n",
      "N/A\n",
      "THIRD COMMITTEE\n",
      "N/A\n",
      "HUMAN RIGHTS COUNCIL\n"
     ]
    }
   ],
   "source": [
    "test_list = ['1994_163532.pdf', '1994_163787.pdf', '1994_163866.pdf', '2000_412394.pdf', '2006_584361.pdf'] \n",
    "for test_pdf in test_list:\n",
    "    #if test_pdf == '2006_584361.pdf':\n",
    "    test_text = extract_text_from_pdf(f'./Dataset/Afghanistan/{test_pdf}')\n",
    "        #print(test_text)\n",
    "    # test year and date\n",
    "    #print(extract_date(test_text, date_pattern))\n",
    "    print(extract_council(test_text, council_pattern, council_pattern2))"
   ]
  },
  {
   "cell_type": "code",
   "execution_count": 177,
   "metadata": {},
   "outputs": [
    {
     "name": "stdout",
     "output_type": "stream",
     "text": [
      "N/A\n"
     ]
    }
   ],
   "source": [
    "# y, d = extract_date(test, date_pattern)\n",
    "# print(y)\n",
    "# print(d)\n",
    "c = extract_council(test, council_pattern2)\n",
    "print(c)"
   ]
  },
  {
   "cell_type": "code",
   "execution_count": 164,
   "metadata": {},
   "outputs": [
    {
     "name": "stdout",
     "output_type": "stream",
     "text": [
      "N/A\n",
      "Towards full integration of persons with disabilities in society:  implementation of the Standard Rules on the Equalization of  Opportunities for Persons with Disabilities, and of the long-term  strategy to implement the world programme of action concerning disabled persons to the year 2000 and beyond  \n"
     ]
    }
   ],
   "source": [
    "# delete extracted text\n",
    "split_text = re.split(draft_pattern, test, flags=re.IGNORECASE)\n",
    "remain_text = split_text[1]\n",
    "\n",
    "text_head_pattern = r'(The General Assembly,|The Commission on Human Rights,|1\\.)'\n",
    "number_title_pattern = r\"^\\s*(\\d{4})?/?\\W*(.*)\"\n",
    "\n",
    "title_body_text = re.split(text_head_pattern, remain_text)\n",
    "title_text = title_body_text[0]\n",
    "#match = re.search(r'[A-Z]', title_text)\n",
    "title_text = title_text.replace('\\n', ' ')\n",
    "#print(title_text)\n",
    "match = re.match(number_title_pattern, title_text)\n",
    "if match:\n",
    "    title_number = match.group(1)\n",
    "    if title_number == None:\n",
    "        title_number = 'N/A'\n",
    "    title = match.group(2)\n",
    "else:\n",
    "    title_number = 'N/A'\n",
    "    title = 'N/A'\n",
    "\n",
    "print(title_number)\n",
    "print(title)\n",
    "\n",
    "\n",
    "# Body title (H)\n",
    "# split the text into paragraphs\n",
    "body_title = ''\n",
    "paragraphs = remain_text.split('\\n\\n')\n",
    "body_idx = 1\n",
    "body_title = ''\n",
    "\n",
    "# for paragraph in paragraphs[1:]:\n",
    "#     # check if this paragraph contains the beginning pattern of the body text\n",
    "#     # lines = remain_text.split('\\n')\n",
    "#     # for line in lines:\n",
    "#     #     if re.search(text_head_pattern, line):\n",
    "#     #         break\n",
    "#     print(paragraph)\n",
    "#     if re.search(text_head_pattern, paragraph):\n",
    "#         break\n",
    "#     else:\n",
    "#         body_title += paragraph\n",
    "#         body_idx +=1\n",
    "# if body_idx ==1:\n",
    "#     body_title = 'N/A'\n",
    "# else:\n",
    "#     body_title = body_title.replace('\\n', ' ') \n",
    "# print(\"Body title: \", body_title)\n",
    "\n",
    "\n",
    "# # Body text (I)\n",
    "# # extract the text content from the second non-empty paragraph\n",
    "# body_text = ''\n",
    "# footnote = ''\n",
    "# footnote_idx = 1\n",
    "# for paragraph in paragraphs[body_idx:]:\n",
    "#     #for line in paragraph.split('\\n'):\n",
    "#         # exclude lines containing specific patterns\n",
    "#     paragraph = paragraph.replace(\"\\n\", \" \")\n",
    "#     match = re.search(footnote_pattern, paragraph)\n",
    "#     if match:\n",
    "#         if match.group(0)[0] == '*':\n",
    "#             footnote += match.group(0)\n",
    "#         elif len(match.group(0)) < 90 and match.group(0)[0] == str(footnote_idx):\n",
    "#             footnote += match.group(0)\n",
    "#             footnote_idx += 1\n",
    "#     else:\n",
    "#         #if not re.search(r'^(\\d{2}-\\d{5}|[A-Za-z]/\\d{2}/[A-Za-z]\\.\\d|[A-Za-z ]+Please recycle|Page \\d{1})', paragraph):\n",
    "#         if len(paragraph) > 50 or paragraph == \"The General Assembly,\":\n",
    "#             body_text += paragraph.strip() + ' '\n",
    "#         else:\n",
    "#             if len(paragraph) == 0:\n",
    "#                 continue\n",
    "#             if (paragraph[0] == str(footnote_idx) and paragraph[1] == '/') or paragraph[0] == \"*\":\n",
    "#                 footnote_idx += 1\n",
    "#                 footnote += paragraph \n",
    "#             else:\n",
    "#                 body_text += paragraph.strip() + ' '\n",
    "# print(footnote)\n"
   ]
  },
  {
   "cell_type": "code",
   "execution_count": 205,
   "metadata": {},
   "outputs": [
    {
     "ename": "AttributeError",
     "evalue": "'NoneType' object has no attribute 'group'",
     "output_type": "error",
     "traceback": [
      "\u001b[1;31m---------------------------------------------------------------------------\u001b[0m",
      "\u001b[1;31mAttributeError\u001b[0m                            Traceback (most recent call last)",
      "\u001b[1;32mc:\\Users\\lmy\\Git\\OCR-GAUN\\extract.ipynb Cell 14\u001b[0m in \u001b[0;36m<module>\u001b[1;34m\u001b[0m\n\u001b[0;32m      <a href='vscode-notebook-cell:/c%3A/Users/lmy/Git/OCR-GAUN/extract.ipynb#X34sZmlsZQ%3D%3D?line=0'>1</a>\u001b[0m string \u001b[39m=\u001b[39m \u001b[39m'\u001b[39m\u001b[39mGeneral Assembly Distr.\u001b[39m\u001b[39m\\n\u001b[39;00m\u001b[39mLIMITED\u001b[39m\u001b[39m\\n\u001b[39;00m\u001b[39m\\n\u001b[39;00m\u001b[39mA/HRC/2/L.46\u001b[39m\u001b[39m\\n\u001b[39;00m\u001b[39m3 October 2006\u001b[39m\u001b[39m\\n\u001b[39;00m\u001b[39m\\n\u001b[39;00m\u001b[39mOriginal: ENGLISH\u001b[39m\u001b[39m\\n\u001b[39;00m\u001b[39m\\n\u001b[39;00m\u001b[39mHUMAN RIGHTS COUNCIL\u001b[39m\u001b[39m\\n\u001b[39;00m\u001b[39mSecond session\u001b[39m\u001b[39m\\n\u001b[39;00m\u001b[39mAgenda item 2\u001b[39m\u001b[39m\\n\u001b[39;00m\u001b[39m\\n\u001b[39;00m\u001b[39mIMPLEMENTATION OF GENERAL ASSEMBLY RESOLUTION 60/251\u001b[39m\u001b[39m\\n\u001b[39;00m\u001b[39mOF 15 MARCH 2006 ENTITLED “HUMAN RIGHTS COUNCIL”\u001b[39m\u001b[39m\\n\u001b[39;00m\u001b[39m\\n\u001b[39;00m\u001b[39mFinland (on behalf of the European Union)\u001b[39m\u001b[39m\\n\u001b[39;00m\u001b[39mand Afghanistan*:\u001b[39m\u001b[39m'\u001b[39m\n\u001b[1;32m----> <a href='vscode-notebook-cell:/c%3A/Users/lmy/Git/OCR-GAUN/extract.ipynb#X34sZmlsZQ%3D%3D?line=2'>3</a>\u001b[0m council_name \u001b[39m=\u001b[39m re\u001b[39m.\u001b[39;49msearch(\u001b[39mr\u001b[39;49m\u001b[39m'\u001b[39;49m\u001b[39m^\u001b[39;49m\u001b[39m\\\u001b[39;49m\u001b[39mw+(?:\u001b[39;49m\u001b[39m\\\u001b[39;49m\u001b[39ms+\u001b[39;49m\u001b[39m\\\u001b[39;49m\u001b[39mw+)*\u001b[39;49m\u001b[39m\\\u001b[39;49m\u001b[39ms+COUNCIL\u001b[39;49m\u001b[39m'\u001b[39;49m, string)\u001b[39m.\u001b[39;49mgroup(\u001b[39m0\u001b[39m)\n\u001b[0;32m      <a href='vscode-notebook-cell:/c%3A/Users/lmy/Git/OCR-GAUN/extract.ipynb#X34sZmlsZQ%3D%3D?line=4'>5</a>\u001b[0m \u001b[39mprint\u001b[39m(council_name)\n",
      "\u001b[1;31mAttributeError\u001b[0m: 'NoneType' object has no attribute 'group'"
     ]
    }
   ],
   "source": [
    "string = 'General Assembly Distr.\\nLIMITED\\n\\nA/HRC/2/L.46\\n3 October 2006\\n\\nOriginal: ENGLISH\\n\\nHUMAN RIGHTS COUNCIL\\nSecond session\\nAgenda item 2\\n\\nIMPLEMENTATION OF GENERAL ASSEMBLY RESOLUTION 60/251\\nOF 15 MARCH 2006 ENTITLED “HUMAN RIGHTS COUNCIL”\\n\\nFinland (on behalf of the European Union)\\nand Afghanistan*:'\n",
    "\n",
    "council_name = re.search(r'^\\w+(?:\\s+\\w+)*\\s+COUNCIL', string).group(0)\n",
    "\n",
    "print(council_name)  # HUMAN RIGHTS COUNCIL"
   ]
  },
  {
   "cell_type": "code",
   "execution_count": null,
   "metadata": {},
   "outputs": [],
   "source": []
  }
 ],
 "metadata": {
  "kernelspec": {
   "display_name": "Python 3",
   "language": "python",
   "name": "python3"
  },
  "language_info": {
   "codemirror_mode": {
    "name": "ipython",
    "version": 3
   },
   "file_extension": ".py",
   "mimetype": "text/x-python",
   "name": "python",
   "nbconvert_exporter": "python",
   "pygments_lexer": "ipython3",
   "version": "3.9.13"
  },
  "orig_nbformat": 4,
  "vscode": {
   "interpreter": {
    "hash": "e458c25decc5a85e5a64c322411a3149390d0cc49d8006d301337b209f73e58a"
   }
  }
 },
 "nbformat": 4,
 "nbformat_minor": 2
}
