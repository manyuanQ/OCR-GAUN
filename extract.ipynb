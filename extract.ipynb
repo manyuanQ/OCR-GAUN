{
 "cells": [
  {
   "cell_type": "code",
   "execution_count": 1,
   "metadata": {},
   "outputs": [
    {
     "name": "stdout",
     "output_type": "stream",
     "text": [
      "Requirement already satisfied: pytesseract in c:\\users\\lmy\\appdata\\local\\packages\\pythonsoftwarefoundation.python.3.9_qbz5n2kfra8p0\\localcache\\local-packages\\python39\\site-packages (0.3.10)\n",
      "Requirement already satisfied: Pillow>=8.0.0 in c:\\users\\lmy\\appdata\\local\\packages\\pythonsoftwarefoundation.python.3.9_qbz5n2kfra8p0\\localcache\\local-packages\\python39\\site-packages (from pytesseract) (9.0.1)\n",
      "Requirement already satisfied: packaging>=21.3 in c:\\users\\lmy\\appdata\\local\\packages\\pythonsoftwarefoundation.python.3.9_qbz5n2kfra8p0\\localcache\\local-packages\\python39\\site-packages (from pytesseract) (21.3)\n",
      "Requirement already satisfied: pyparsing!=3.0.5,>=2.0.2 in c:\\users\\lmy\\appdata\\local\\packages\\pythonsoftwarefoundation.python.3.9_qbz5n2kfra8p0\\localcache\\local-packages\\python39\\site-packages (from packaging>=21.3->pytesseract) (3.0.7)\n"
     ]
    },
    {
     "name": "stderr",
     "output_type": "stream",
     "text": [
      "WARNING: You are using pip version 22.0.4; however, version 23.0.1 is available.\n",
      "You should consider upgrading via the 'C:\\Users\\lmy\\AppData\\Local\\Microsoft\\WindowsApps\\PythonSoftwareFoundation.Python.3.9_qbz5n2kfra8p0\\python.exe -m pip install --upgrade pip' command.\n"
     ]
    },
    {
     "name": "stdout",
     "output_type": "stream",
     "text": [
      "Requirement already satisfied: pdf2image in c:\\users\\lmy\\appdata\\local\\packages\\pythonsoftwarefoundation.python.3.9_qbz5n2kfra8p0\\localcache\\local-packages\\python39\\site-packages (1.16.2)\n",
      "Requirement already satisfied: pillow in c:\\users\\lmy\\appdata\\local\\packages\\pythonsoftwarefoundation.python.3.9_qbz5n2kfra8p0\\localcache\\local-packages\\python39\\site-packages (from pdf2image) (9.0.1)\n"
     ]
    },
    {
     "name": "stderr",
     "output_type": "stream",
     "text": [
      "WARNING: You are using pip version 22.0.4; however, version 23.0.1 is available.\n",
      "You should consider upgrading via the 'C:\\Users\\lmy\\AppData\\Local\\Microsoft\\WindowsApps\\PythonSoftwareFoundation.Python.3.9_qbz5n2kfra8p0\\python.exe -m pip install --upgrade pip' command.\n"
     ]
    }
   ],
   "source": [
    "# install packages\n",
    "!pip install pytesseract\n",
    "!pip install pdf2image"
   ]
  },
  {
   "cell_type": "code",
   "execution_count": 2,
   "metadata": {},
   "outputs": [],
   "source": [
    "# import packages\n",
    "import pytesseract\n",
    "from pdf2image import convert_from_path\n",
    "import os\n",
    "import re\n",
    "from datetime import datetime\n",
    "import pandas as pd"
   ]
  },
  {
   "cell_type": "code",
   "execution_count": 3,
   "metadata": {},
   "outputs": [],
   "source": [
    "# Function to extract text from a PDF file\n",
    "pytesseract.pytesseract.tesseract_cmd = r'C:\\Program Files\\Tesseract-OCR\\tesseract.exe'  \n",
    "\n",
    "def extract_text_from_pdf(pdf_path):\n",
    "    # Convert the PDF to a list of PIL Image objects\n",
    "    images = convert_from_path(pdf_path)\n",
    "    text_list = []\n",
    "    # Loop through each page of the PDF and extract text using Tesseract\n",
    "    for image in images:\n",
    "        text = pytesseract.image_to_string(image)\n",
    "        text_list.append(text)\n",
    "    # Combine text from all pages into a single string\n",
    "    text = '\\n'.join(text_list)\n",
    "    return text"
   ]
  },
  {
   "cell_type": "code",
   "execution_count": 93,
   "metadata": {},
   "outputs": [],
   "source": [
    "# Define the regex pattern to match the date\n",
    "date_pattern = r'\\b\\d{1,2}\\s+(?:January|February|March|April|May|June|July|August|September|October|November|December)\\s+\\d{4}\\b'\n",
    "council_pattern = r'(?i)(\\b[A-Za-z]+\\s(?:(\\n)Council|(\\n)Committee|(\\n)COMMITTEE)\\b)'\n",
    "council_pattern2 = r\"(?<=session).*?(?=Agenda)\"\n",
    "session_pattern = r'(?P<session>[\\w-]+\\ssession)'\n",
    "agenda_pattern = r'Agenda item (\\d+)(?: \\((\\w+)\\))?(?:\\n\\n)?'\n",
    "draft_pattern = r'draft(?:\\n\\n)?\\s?resolution'\n",
    "#agenda_detail_pattern = r'Agenda item\\s+(\\d+)\\s+\\(.+\\).*?(draft(?:\\n\\n)?\\s?resolution)' #(?<=Agenda item \\d+ \\(.\\)\\n).*?(?=draft(?:\\n)?resolution|\\n\\n)'\n",
    "footnote_pattern = r'^(\\*|\\d(?![./])|\\d{1}/)\\s.*'\n",
    "title_pattern = r\"1\\.\\s+\\w+(\\s+\\w+)*\""
   ]
  },
  {
   "cell_type": "code",
   "execution_count": 104,
   "metadata": {},
   "outputs": [],
   "source": [
    "# Function to classify text into column A to N\n",
    "def classify_text_to_column(text):\n",
    "    result = []\n",
    "\n",
    "    # extract year and date (A and J)\n",
    "    # Search for the date in the text\n",
    "    match = re.search(date_pattern, text)\n",
    "    if match:\n",
    "        date = match.group(0)\n",
    "        date_obj = datetime.strptime(date, '%d %B %Y')\n",
    "        new_date = date_obj.strftime('%m/%d/%Y') #column J\n",
    "        year = new_date[-4:] #column A\n",
    "    else:\n",
    "        date, year = 'N/A'\n",
    "        print(\"No date found\")\n",
    "    result.append(year)\n",
    "\n",
    "\n",
    "    # extract council/committe name (B)\n",
    "    first_twenty_lines = text.split('\\n')[:20]\n",
    "    for line in first_twenty_lines:\n",
    "        match = re.search(council_pattern, line)\n",
    "        if match:\n",
    "            council = match.group(0)\n",
    "            break\n",
    "        else:\n",
    "            council = 'N/A'\n",
    "            break\n",
    "            #print(\"No council found\")\n",
    "    match = re.search(council_pattern2, text, re.DOTALL)\n",
    "    if match:\n",
    "        council = match.group(0).strip()\n",
    "        council = council.replace('\\n', ' ') \n",
    "    else:\n",
    "        council = 'N/A'\n",
    "    if council == ' ' or council == '':\n",
    "        council = 'N/A'\n",
    "    result.append(council)\n",
    "\n",
    "\n",
    "    # extract session (C)\n",
    "    match = re.search(session_pattern, text)\n",
    "    if match:\n",
    "        session = match.group(\"session\")\n",
    "    else:\n",
    "        session = 'N/A'\n",
    "        print(\"Session information not found.\")\n",
    "    result.append(session)\n",
    "\n",
    "\n",
    "    # extract Agenda item (D), Agenda detail (E), and countries (F)\n",
    "    agenda_match = re.search(agenda_pattern, text)\n",
    "    if match:\n",
    "        agenda_item_number = agenda_match.group(1)\n",
    "        agenda_item_letter = agenda_match.group(2)\n",
    "        if agenda_item_letter is not None:\n",
    "            agenda_item = f\"{agenda_item_number} ({agenda_item_letter})\"\n",
    "        else:\n",
    "            agenda_item = agenda_item_number\n",
    "        result.append(agenda_item)\n",
    "        \n",
    "        start_index = agenda_match.end()\n",
    "        draft_match = re.search(draft_pattern, text[start_index:], re.DOTALL)\n",
    "        if draft_match:\n",
    "            end_index = start_index + draft_match.start()\n",
    "            content = text[start_index:end_index]\n",
    "            #print(content)\n",
    "            parts = content.split(\"\\n\\n\")\n",
    "            #print(parts)\n",
    "            parts = [s.replace('\\n', '') for s in parts]\n",
    "            result.append(parts[0])\n",
    "            result.append(parts[1][:-2])\n",
    "    else:\n",
    "        agenda_item = 'N/A'\n",
    "        print(\"No match found\")\n",
    "        result.append(agenda_item)\n",
    "\n",
    "\n",
    "    # delete extracted text\n",
    "    split_text = re.split(draft_pattern, text, flags=re.IGNORECASE)\n",
    "    remain_text = split_text[1]\n",
    "    #print(remain_text)\n",
    "\n",
    "\n",
    "    # extract Body title number (G)\n",
    "    # Split the text into lines\n",
    "    lines = remain_text.split('\\n')\n",
    "    # Get the first non-empty line\n",
    "    first_line = next(line for line in lines if line.strip())\n",
    "    # Check if the first non-empty character is a number using regular expressions\n",
    "    match = re.match(r'^\\d+', first_line)\n",
    "    if match:\n",
    "        # If the first non-empty character is a number, extract it\n",
    "        number = match.group(0)\n",
    "    else:\n",
    "        number = 'N/A'\n",
    "    result.append(number)\n",
    "\n",
    "\n",
    "    # Body title (H)\n",
    "    # split the text into paragraphs\n",
    "    paragraphs = remain_text.split('\\n\\n')\n",
    "    # get the text content of the first paragraph\n",
    "    first_paragraph = paragraphs[1]\n",
    "    if first_paragraph == \"The General Assembly,\" or first_paragraph[0] == '1':\n",
    "        idx = 1\n",
    "        result.append('N/A')\n",
    "    else:\n",
    "        first_paragraph = first_paragraph.replace('\\n', ' ') \n",
    "        idx = 2\n",
    "        result.append(first_paragraph)\n",
    "\n",
    "\n",
    "    # Body text (I)\n",
    "    # extract the text content from the second non-empty paragraph\n",
    "    body_text = ''\n",
    "    footnote = ''\n",
    "    footnote_idx = 1\n",
    "    for paragraph in paragraphs[idx:]:\n",
    "        #for line in paragraph.split('\\n'):\n",
    "            # exclude lines containing specific patterns\n",
    "        paragraph = paragraph.replace(\"\\n\", \" \")\n",
    "        match = re.search(footnote_pattern, paragraph)\n",
    "        if match:\n",
    "            if match.group(0)[0] == '*':\n",
    "                footnote += match.group(0)\n",
    "            elif len(match.group(0)) < 90 and match.group(0)[0] == str(footnote_idx):\n",
    "                footnote += match.group(0)\n",
    "                footnote_idx += 1\n",
    "        else:\n",
    "            if not re.search(r'^(\\d{2}-\\d{5}|[A-Za-z]/\\d{2}/[A-Za-z]\\.\\d|[A-Za-z ]+Please recycle)', paragraph):\n",
    "                if len(paragraph) > 30 or paragraph == \"The General Assembly,\":\n",
    "                    body_text += paragraph.strip() + ' '\n",
    "                else:\n",
    "                    if len(paragraph) == 0:\n",
    "                        continue\n",
    "                    if paragraph[0] == str(footnote_idx) or paragraph[0] == \"*\":\n",
    "                        footnote_idx += 1\n",
    "                        footnote += paragraph \n",
    "    result.append(body_text)\n",
    "\n",
    "    # date (J)\n",
    "    result.append(date)\n",
    "    \n",
    "    # # file name (K) and country (L) will be obtained outside\n",
    "\n",
    "    # footnote (M)\n",
    "    result.append(footnote)\n",
    "\n",
    "    # scanned (N), cannot know \n",
    "    if int(year) > 1990:\n",
    "        scanned = 'yes'\n",
    "    else:\n",
    "        scanned = 'no'\n",
    "    result.append(scanned)\n",
    "    \n",
    "    return result"
   ]
  },
  {
   "cell_type": "code",
   "execution_count": 105,
   "metadata": {},
   "outputs": [
    {
     "name": "stdout",
     "output_type": "stream",
     "text": [
      "---------------Afghanistan---------------\n",
      "./Dataset/Afghanistan/1994_163336.pdf\n",
      "./Dataset/Afghanistan/1994_163532.pdf\n",
      "./Dataset/Afghanistan/1994_163619.pdf\n",
      "./Dataset/Afghanistan/1994_163690.pdf\n",
      "./Dataset/Afghanistan/1994_163780.pdf\n",
      "./Dataset/Afghanistan/1994_163787.pdf\n",
      "./Dataset/Afghanistan/1994_163866.pdf\n",
      "./Dataset/Afghanistan/1994_163874.pdf\n",
      "./Dataset/Afghanistan/1994_163890.pdf\n",
      "./Dataset/Afghanistan/1994_163906.pdf\n"
     ]
    }
   ],
   "source": [
    "# Path to the folder containing the PDF files\n",
    "pdf_folder = './Dataset'\n",
    "\n",
    "# Path to the folder where the CSV files will be saved\n",
    "csv_folder = './csv_folder'\n",
    "\n",
    "# csv file column list\n",
    "column_list = ['year', 'Council', 'Session', 'Agenda item', 'Agenda detail', 'cosponsored countries', \n",
    "               'body title number',\t'body title detail', 'body text', 'date', 'footnote', 'scanned', \n",
    "               'file', 'filecountry']\n",
    "\n",
    "# Loop through each folder and PDF file and extract text\n",
    "for country_folder in os.listdir(pdf_folder):\n",
    "    print('---------------' + country_folder + '---------------' )\n",
    "    if not os.path.isdir(os.path.join(pdf_folder, country_folder)):\n",
    "        continue\n",
    "    csv_path = os.path.join(csv_folder, f\"{country_folder}.csv\")\n",
    "    rows = []\n",
    "    count = 0\n",
    "    # Loop through each file \n",
    "    for pdf_file in os.listdir(os.path.join(pdf_folder, country_folder)):\n",
    "        if not pdf_file.endswith('.pdf'):\n",
    "            continue\n",
    "        # check if this file is old-version\n",
    "        year = int(pdf_file.split('_')[0])\n",
    "        if year < 1994:\n",
    "            continue\n",
    "\n",
    "        pdf_path = os.path.join(pdf_folder, country_folder, pdf_file).replace('\\\\', '/')\n",
    "        print(pdf_path)\n",
    "        # try:\n",
    "        text = extract_text_from_pdf(pdf_path)\n",
    "        text_columns = classify_text_to_column(text)\n",
    "        row = text_columns + [pdf_file[:-4], country_folder] #add column K and L\n",
    "        rows.append(row)\n",
    "        count += 1\n",
    "        #print(rows)\n",
    "        df = pd.DataFrame(rows, columns = column_list)\n",
    "        df.to_csv(csv_path, index = False) \n",
    "        if count == 10:\n",
    "            break\n",
    "        # except:\n",
    "        #     print(f\"Error extracting text from {pdf_path}\")\n",
    "        #     continue\n",
    "    break\n",
    "    # Write the rows to the CSV file\n",
    "    df = pd.DataFrame(rows, columns = column_list)\n",
    "    df.to_csv(csv_path, index = False)  "
   ]
  },
  {
   "cell_type": "code",
   "execution_count": 54,
   "metadata": {},
   "outputs": [
    {
     "data": {
      "text/plain": [
       "'UNITED\\nNATIONS A\\n\\n@) General Assembly oiste,\\n—— 3\\n\\nLIMITED\\n\\nA/49/L.3\\n17 October 1994\\n\\nORIGINAL: ENGLISH\\n\\nForty-ninth session\\nAgenda item 152\\n\\nOBSERVER STATUS FOR THE INTERNATIONAL FEDERATION OF RED CROSS\\nAND RED CRESCENT SOCIETIES IN THE GENERAL ASSEMBLY\\n\\nAfghanistan, Algeria, Antigua _and Barbuda, Armenia,\\nAustralia, Austria, Bahamas, Bangladesh, Barbados, Belarus,\\nBelize, Benin, Bhutan, Bolivia, Bulgaria, Burkina Faso,\\nCambodia, Cameroon, Canada, Cape Verde, Chile, Colombia,\\nCongo, Costa Rica, Céte d’Ivoire, Croatia, Cyprus,\\nDemocratic People’s Republic of Korea, Denmark, Djibouti,\\nDominican Republic, Ecuador, El Salvador, Eritrea, Estonia,\\nEthiopia, Fiji, Finland, Gambia, Georgia, Ghana, Guatemala,\\nGuinea, Honduras, Hungary, Iceland, Indonesia, Iraq, Jordan,\\nKazakhstan, Kyrgyzstan, Lao People’s Democratic Republic,\\nLiberia, Libyan Arab Jamahiriya, Liechtenstein, Madagascar,\\nMalawi, Malaysia, Maldives, Mali, Malta, Marshall Islands,\\nMauritania, Mexico, Micronesia (Federated States of)\\nMongolia, Morocco, Mozambique, Myanmar, Namibia, Nepal, New\\nZealand, Norway, Oman, Pakistan, Panama, Papua New Guinea,\\nPeru, Poland, Qatar, Republic of Korea, Saint Lucia, Samoa,\\nSan Marino, Saudi Arabia, Senegal, Sierra Leone, Slovakia,\\nSolomon Islands, Sudan, Sweden, Thailand, Togo, Tunisia,\\nTurkey, Ukraine, Vanuatu, Venezuela, Yemen and Zimbabwe:\\ndraft resolution\\n\\nThe General Assembly,\\n\\nRecalling the special functions of the member societies of the\\nInternational Federation of Red Cross and Red Crescent Societies which are\\nrecognized by their respective Governments as auxiliaries to the public\\nauthorities in the humanitarian field on the basis of the Geneva Conventions of\\n12 August 1949,\\n\\nConsidering the specific role of the International Federation of Red Cross\\nand Red Crescent Societies in international humanitarian relations as further\\ndefined by the International Conference of the Red Cross and Red Crescent,\\n\\n94-40328 (E) 171094 Jase\\n\\nA/49/L.3\\nEnglish\\nPage 2\\n\\nDesirous of promoting cooperation between the United Nations and the\\nInternational Federation of Red Cross and Red Crescent Societies,\\n\\n1. Decides to invite the International Federation of Red Cross and Red\\nCrescent Societies to participate in the sessions and the work of the General\\n\\nAssembly in the capacity of observer;\\n\\n2. Requests the Secretary-General to take the necessary action to\\nimplement the present resolution.\\n'"
      ]
     },
     "execution_count": 54,
     "metadata": {},
     "output_type": "execute_result"
    }
   ],
   "source": [
    "test = extract_text_from_pdf('./Dataset/Afghanistan/1994_163336.pdf')\n",
    "test"
   ]
  },
  {
   "cell_type": "code",
   "execution_count": 92,
   "metadata": {},
   "outputs": [
    {
     "name": "stdout",
     "output_type": "stream",
     "text": [
      "152\n",
      "OBSERVER STATUS FOR THE INTERNATIONAL FEDERATION OF RED CROSSAND RED CRESCENT SOCIETIES IN THE GENERAL ASSEMBLY\n",
      "Afghanistan, Algeria, Antigua _and Barbuda, Armenia,Australia, Austria, Bahamas, Bangladesh, Barbados, Belarus,Belize, Benin, Bhutan, Bolivia, Bulgaria, Burkina Faso,Cambodia, Cameroon, Canada, Cape Verde, Chile, Colombia,Congo, Costa Rica, Céte d’Ivoire, Croatia, Cyprus,Democratic People’s Republic of Korea, Denmark, Djibouti,Dominican Republic, Ecuador, El Salvador, Eritrea, Estonia,Ethiopia, Fiji, Finland, Gambia, Georgia, Ghana, Guatemala,Guinea, Honduras, Hungary, Iceland, Indonesia, Iraq, Jordan,Kazakhstan, Kyrgyzstan, Lao People’s Democratic Republic,Liberia, Libyan Arab Jamahiriya, Liechtenstein, Madagascar,Malawi, Malaysia, Maldives, Mali, Malta, Marshall Islands,Mauritania, Mexico, Micronesia (Federated States of)Mongolia, Morocco, Mozambique, Myanmar, Namibia, Nepal, NewZealand, Norway, Oman, Pakistan, Panama, Papua New Guinea,Peru, Poland, Qatar, Republic of Korea, Saint Lucia, Samoa,San Marino, Saudi Arabia, Senegal, Sierra Leone, Slovakia,Solomon Islands, Sudan, Sweden, Thailand, Togo, Tunisia,Turkey, Ukraine, Vanuatu, Venezuela, Yemen and Zimbabwe\n"
     ]
    }
   ],
   "source": [
    "# extract Agenda item (D)\n",
    "\n",
    "agenda_pattern3 = r'Agenda item (\\d+)(?: \\((\\w+)\\))?(?:\\n\\n)?'\n",
    "match = re.search(agenda_pattern3, text)\n",
    "if match:\n",
    "    agenda_item_number = match.group(1)\n",
    "    agenda_item_letter = match.group(2)\n",
    "    if agenda_item_letter is not None:\n",
    "        agenda_item = f\"{agenda_item_number} ({agenda_item_letter})\"\n",
    "    else:\n",
    "        agenda_item = agenda_item_number\n",
    "else:\n",
    "    agenda_item = 'N/A'\n",
    "    print(\"No match found\")\n",
    "print(agenda_item)\n",
    "\n",
    "# extract Agenda detail (E) and countries (F)\n",
    "agenda_item_match = re.search(agenda_pattern3, test)\n",
    "if agenda_item_match:\n",
    "    start_index = agenda_item_match.end()\n",
    "    draft_match = re.search(draft_pattern, text[start_index:], re.DOTALL)\n",
    "    if draft_match:\n",
    "        end_index = start_index + draft_match.start()\n",
    "        content = text[start_index:end_index]\n",
    "        #print(content)\n",
    "        parts = content.split(\"\\n\\n\")\n",
    "        #print(parts)\n",
    "        parts = [s.replace('\\n', '') for s in parts]\n",
    "        print(parts[0])\n",
    "        print(parts[1][:-1])"
   ]
  },
  {
   "cell_type": "code",
   "execution_count": null,
   "metadata": {},
   "outputs": [],
   "source": []
  },
  {
   "cell_type": "code",
   "execution_count": 95,
   "metadata": {},
   "outputs": [
    {
     "data": {
      "text/plain": [
       "['1994',\n",
       " 'N/A',\n",
       " 'Forty-ninth session',\n",
       " '152',\n",
       " 'OBSERVER STATUS FOR THE INTERNATIONAL FEDERATION OF RED CROSSAND RED CRESCENT SOCIETIES IN THE GENERAL ASSEMBLY',\n",
       " 'Afghanistan, Algeria, Antigua _and Barbuda, Armenia,Australia, Austria, Bahamas, Bangladesh, Barbados, Belarus,Belize, Benin, Bhutan, Bolivia, Bulgaria, Burkina Faso,Cambodia, Cameroon, Canada, Cape Verde, Chile, Colombia,Congo, Costa Rica, Céte d’Ivoire, Croatia, Cyprus,Democratic People’s Republic of Korea, Denmark, Djibouti,Dominican Republic, Ecuador, El Salvador, Eritrea, Estonia,Ethiopia, Fiji, Finland, Gambia, Georgia, Ghana, Guatemala,Guinea, Honduras, Hungary, Iceland, Indonesia, Iraq, Jordan,Kazakhstan, Kyrgyzstan, Lao People’s Democratic Republic,Liberia, Libyan Arab Jamahiriya, Liechtenstein, Madagascar,Malawi, Malaysia, Maldives, Mali, Malta, Marshall Islands,Mauritania, Mexico, Micronesia (Federated States of)Mongolia, Morocco, Mozambique, Myanmar, Namibia, Nepal, NewZealand, Norway, Oman, Pakistan, Panama, Papua New Guinea,Peru, Poland, Qatar, Republic of Korea, Saint Lucia, Samoa,San Marino, Saudi Arabia, Senegal, Sierra Leone, Slovakia,Solomon Islands, Sudan, Sweden, Thailand, Togo, Tunisia,Turkey, Ukraine, Vanuatu, Venezuela, Yemen and Zimbabw',\n",
       " '152',\n",
       " 'N/A',\n",
       " 'N/A',\n",
       " 'The General Assembly, Recalling the special functions of the member societies of the International Federation of Red Cross and Red Crescent Societies which are recognized by their respective Governments as auxiliaries to the public authorities in the humanitarian field on the basis of the Geneva Conventions of 12 August 1949, Considering the specific role of the International Federation of Red Cross and Red Crescent Societies in international humanitarian relations as further defined by the International Conference of the Red Cross and Red Crescent, Desirous of promoting cooperation between the United Nations and the International Federation of Red Cross and Red Crescent Societies, 1. Decides to invite the International Federation of Red Cross and Red Crescent Societies to participate in the sessions and the work of the General Assembly in the capacity of observer; 2. Requests the Secretary-General to take the necessary action to implement the present resolution. ',\n",
       " '17 October 1994',\n",
       " '',\n",
       " 'yes']"
      ]
     },
     "execution_count": 95,
     "metadata": {},
     "output_type": "execute_result"
    }
   ],
   "source": [
    "classify_text_to_column(text)"
   ]
  },
  {
   "cell_type": "code",
   "execution_count": null,
   "metadata": {},
   "outputs": [],
   "source": []
  }
 ],
 "metadata": {
  "kernelspec": {
   "display_name": "Python 3",
   "language": "python",
   "name": "python3"
  },
  "language_info": {
   "codemirror_mode": {
    "name": "ipython",
    "version": 3
   },
   "file_extension": ".py",
   "mimetype": "text/x-python",
   "name": "python",
   "nbconvert_exporter": "python",
   "pygments_lexer": "ipython3",
   "version": "3.9.13"
  },
  "orig_nbformat": 4,
  "vscode": {
   "interpreter": {
    "hash": "e458c25decc5a85e5a64c322411a3149390d0cc49d8006d301337b209f73e58a"
   }
  }
 },
 "nbformat": 4,
 "nbformat_minor": 2
}
