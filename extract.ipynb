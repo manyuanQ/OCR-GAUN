{
 "cells": [
  {
   "cell_type": "code",
   "execution_count": 1,
   "metadata": {},
   "outputs": [
    {
     "name": "stdout",
     "output_type": "stream",
     "text": [
      "Requirement already satisfied: pytesseract in c:\\users\\lmy\\appdata\\local\\packages\\pythonsoftwarefoundation.python.3.9_qbz5n2kfra8p0\\localcache\\local-packages\\python39\\site-packages (0.3.10)"
     ]
    },
    {
     "name": "stderr",
     "output_type": "stream",
     "text": [
      "WARNING: You are using pip version 22.0.4; however, version 23.0.1 is available.\n",
      "You should consider upgrading via the 'C:\\Users\\lmy\\AppData\\Local\\Microsoft\\WindowsApps\\PythonSoftwareFoundation.Python.3.9_qbz5n2kfra8p0\\python.exe -m pip install --upgrade pip' command.\n"
     ]
    },
    {
     "name": "stdout",
     "output_type": "stream",
     "text": [
      "\n",
      "Requirement already satisfied: packaging>=21.3 in c:\\users\\lmy\\appdata\\local\\packages\\pythonsoftwarefoundation.python.3.9_qbz5n2kfra8p0\\localcache\\local-packages\\python39\\site-packages (from pytesseract) (21.3)\n",
      "Requirement already satisfied: Pillow>=8.0.0 in c:\\users\\lmy\\appdata\\local\\packages\\pythonsoftwarefoundation.python.3.9_qbz5n2kfra8p0\\localcache\\local-packages\\python39\\site-packages (from pytesseract) (9.0.1)\n",
      "Requirement already satisfied: pyparsing!=3.0.5,>=2.0.2 in c:\\users\\lmy\\appdata\\local\\packages\\pythonsoftwarefoundation.python.3.9_qbz5n2kfra8p0\\localcache\\local-packages\\python39\\site-packages (from packaging>=21.3->pytesseract) (3.0.7)\n",
      "Requirement already satisfied: pdf2image in c:\\users\\lmy\\appdata\\local\\packages\\pythonsoftwarefoundation.python.3.9_qbz5n2kfra8p0\\localcache\\local-packages\\python39\\site-packages (1.16.2)\n",
      "Requirement already satisfied: pillow in c:\\users\\lmy\\appdata\\local\\packages\\pythonsoftwarefoundation.python.3.9_qbz5n2kfra8p0\\localcache\\local-packages\\python39\\site-packages (from pdf2image) (9.0.1)\n"
     ]
    },
    {
     "name": "stderr",
     "output_type": "stream",
     "text": [
      "WARNING: You are using pip version 22.0.4; however, version 23.0.1 is available.\n",
      "You should consider upgrading via the 'C:\\Users\\lmy\\AppData\\Local\\Microsoft\\WindowsApps\\PythonSoftwareFoundation.Python.3.9_qbz5n2kfra8p0\\python.exe -m pip install --upgrade pip' command.\n"
     ]
    }
   ],
   "source": [
    "# install packages\n",
    "!pip install pytesseract\n",
    "!pip install pdf2image"
   ]
  },
  {
   "cell_type": "code",
   "execution_count": 1,
   "metadata": {},
   "outputs": [],
   "source": [
    "# import packages\n",
    "import pytesseract\n",
    "from pdf2image import convert_from_path\n",
    "import os\n",
    "import re\n",
    "from datetime import datetime\n",
    "import pandas as pd"
   ]
  },
  {
   "cell_type": "code",
   "execution_count": 2,
   "metadata": {},
   "outputs": [],
   "source": [
    "# Function to extract text from a PDF file\n",
    "pytesseract.pytesseract.tesseract_cmd = r'C:\\Program Files\\Tesseract-OCR\\tesseract.exe'  \n",
    "\n",
    "def extract_text_from_pdf(pdf_path):\n",
    "    # Convert the PDF to a list of PIL Image objects\n",
    "    images = convert_from_path(pdf_path)\n",
    "    text_list = []\n",
    "    # Loop through each page of the PDF and extract text using Tesseract\n",
    "    for image in images:\n",
    "        text = pytesseract.image_to_string(image)\n",
    "        text_list.append(text)\n",
    "    # Combine text from all pages into a single string\n",
    "    text = '\\n'.join(text_list)\n",
    "    return text"
   ]
  },
  {
   "cell_type": "code",
   "execution_count": 144,
   "metadata": {},
   "outputs": [],
   "source": [
    "# Define the regex pattern to match the date\n",
    "date_pattern = r'\\b\\d{1,2}\\s+(?:January|February|March|April|May|June|July|August|September|October|November|December)\\s+\\d{4}\\b'\n",
    "council_pattern = r'(?i)(\\b[A-Za-z]+\\s(?:(\\n)Council|(\\n)Committee|(\\n)COMMITTEE)\\b)'\n",
    "council_pattern2 = r\"(?<=session).*?(?=Agenda)\"\n",
    "session_pattern = r'(?P<session>[\\w-]+\\ssession)'\n",
    "agenda_pattern = r'(?i)Agenda item (\\d+)'\n",
    "agenda_detail_pattern = r\"Agenda item \\d+(.*?)(draft resolution|draft(?:\\n\\n)?resolution|draft(?:\\n)?resolution)\"\n",
    "footnote_pattern = r'^(\\*|\\d(?![./])|\\d{1}/)\\s.*'\n",
    "split_pattern = r'draft resolution|draft(?:\\n\\n)?resolution'\n",
    "title_pattern = r\"1\\.\\s+\\w+(\\s+\\w+)*\""
   ]
  },
  {
   "cell_type": "code",
   "execution_count": 145,
   "metadata": {},
   "outputs": [],
   "source": [
    "# Function to classify text into column A to N\n",
    "def classify_text_to_column(text):\n",
    "    result = []\n",
    "\n",
    "    # extract year and date (A and J)\n",
    "    # Search for the date in the text\n",
    "    match = re.search(date_pattern, text)\n",
    "    if match:\n",
    "        date = match.group(0)\n",
    "        date_obj = datetime.strptime(date, '%d %B %Y')\n",
    "        new_date = date_obj.strftime('%m/%d/%Y') #column J\n",
    "        year = new_date[-4:] #column A\n",
    "    else:\n",
    "        date, year = 'N/A'\n",
    "        print(\"No date found\")\n",
    "    result.append(year)\n",
    "\n",
    "\n",
    "    # extract council/committe name (B)\n",
    "    first_twenty_lines = text.split('\\n')[:20]\n",
    "    for line in first_twenty_lines:\n",
    "        match = re.search(council_pattern, line)\n",
    "        if match:\n",
    "            council = match.group(0)\n",
    "            break\n",
    "        else:\n",
    "            council = 'N/A'\n",
    "            break\n",
    "            #print(\"No council found\")\n",
    "    match = re.search(council_pattern2, text, re.DOTALL)\n",
    "    if match:\n",
    "        council = match.group(0).strip()\n",
    "        council = council.replace('\\n', ' ') \n",
    "    else:\n",
    "        council = 'N/A'\n",
    "    if council == ' ' or council == '':\n",
    "        council = 'N/A'\n",
    "    result.append(council)\n",
    "\n",
    "\n",
    "    # extract session (C)\n",
    "    match = re.search(session_pattern, text)\n",
    "    if match:\n",
    "        session = match.group(\"session\")\n",
    "    else:\n",
    "        session = 'N/A'\n",
    "        print(\"Session information not found.\")\n",
    "    result.append(session)\n",
    "\n",
    "\n",
    "    # extract Agenda item (D)\n",
    "    match = re.search(agenda_pattern, text)\n",
    "    if match:\n",
    "        agenda_item = match.group(1)\n",
    "    else:\n",
    "        agenda_item = 'N/A'\n",
    "        print(\"No match found\")\n",
    "    result.append(agenda_item)\n",
    "\n",
    "\n",
    "    # extract Agenda detail (E) and countries (F)\n",
    "    match = re.search(agenda_detail_pattern, text, re.DOTALL)\n",
    "    if match:\n",
    "        agenda_item_text = match.group(1).strip()\n",
    "    parts = agenda_item_text.split(\"\\n\\n\")\n",
    "    parts = [s.replace('\\n', '') for s in parts]\n",
    "    result.append(parts[0])\n",
    "    result.append(parts[1][:-1])\n",
    "\n",
    "\n",
    "    # delete extracted text\n",
    "    split_text = re.split(split_pattern, text, flags=re.IGNORECASE)\n",
    "    remain_text = split_text[1]\n",
    "    #print(remain_text)\n",
    "\n",
    "\n",
    "    # extract Body title number (G)\n",
    "    # Split the text into lines\n",
    "    lines = remain_text.split('\\n')\n",
    "    # Get the first non-empty line\n",
    "    first_line = next(line for line in lines if line.strip())\n",
    "    # Check if the first non-empty character is a number using regular expressions\n",
    "    match = re.match(r'^\\d+', first_line)\n",
    "    if match:\n",
    "        # If the first non-empty character is a number, extract it\n",
    "        number = match.group(0)\n",
    "    else:\n",
    "        number = 'N/A'\n",
    "    result.append(number)\n",
    "\n",
    "\n",
    "    # Body title (H)\n",
    "    # split the text into paragraphs\n",
    "    paragraphs = remain_text.split('\\n\\n')\n",
    "    # get the text content of the first paragraph\n",
    "    first_paragraph = paragraphs[1]\n",
    "    if first_paragraph == \"The General Assembly,\" or first_paragraph[0] == '1':\n",
    "        idx = 1\n",
    "        result.append('N/A')\n",
    "    else:\n",
    "        first_paragraph = first_paragraph.replace('\\n', ' ') \n",
    "        idx = 2\n",
    "        result.append(first_paragraph)\n",
    "\n",
    "\n",
    "    # Body text (I)\n",
    "    # extract the text content from the second non-empty paragraph\n",
    "    body_text = ''\n",
    "    footnote = ''\n",
    "    for paragraph in paragraphs[idx:]:\n",
    "        #for line in paragraph.split('\\n'):\n",
    "            # exclude lines containing specific patterns\n",
    "        paragraph = paragraph.replace(\"\\n\", \" \")\n",
    "        match = re.search(footnote_pattern, paragraph)\n",
    "        if match:\n",
    "            if len(match.group(0)) < 50:\n",
    "                footnote += match.group(0)\n",
    "        else:\n",
    "            if not re.search(r'^(\\d{2}-\\d{5}|[A-Za-z]/\\d{2}/[A-Za-z]\\.\\d|[A-Za-z ]+Please recycle)', paragraph):\n",
    "                if len(paragraph) > 30 or paragraph == \"The General Assembly,\":\n",
    "                    body_text += paragraph.strip() + ' '\n",
    "    result.append(body_text)\n",
    "\n",
    "    # date (J)\n",
    "    result.append(date)\n",
    "    \n",
    "    # # file name (K) and country (L) will be obtained outside\n",
    "\n",
    "    # footnote (M)\n",
    "    result.append(footnote)\n",
    "\n",
    "    # scanned (N), cannot know \n",
    "    if int(year) > 1990:\n",
    "        scanned = 'yes'\n",
    "    else:\n",
    "        scanned = 'no'\n",
    "    result.append(scanned)\n",
    "    \n",
    "    return result"
   ]
  },
  {
   "cell_type": "code",
   "execution_count": 146,
   "metadata": {},
   "outputs": [
    {
     "name": "stdout",
     "output_type": "stream",
     "text": [
      "---------------Afghanistan---------------\n",
      "./Dataset/Afghanistan/1994_163336.pdf\n"
     ]
    },
    {
     "ename": "PermissionError",
     "evalue": "[Errno 13] Permission denied: './csv_folder\\\\Afghanistan.csv'",
     "output_type": "error",
     "traceback": [
      "\u001b[1;31m---------------------------------------------------------------------------\u001b[0m",
      "\u001b[1;31mPermissionError\u001b[0m                           Traceback (most recent call last)",
      "\u001b[1;32mc:\\Users\\lmy\\Git\\OCR-GAUN\\extract.ipynb Cell 6\u001b[0m in \u001b[0;36m<module>\u001b[1;34m\u001b[0m\n\u001b[0;32m     <a href='vscode-notebook-cell:/c%3A/Users/lmy/Git/OCR-GAUN/extract.ipynb#X10sZmlsZQ%3D%3D?line=36'>37</a>\u001b[0m \u001b[39m#print(rows)\u001b[39;00m\n\u001b[0;32m     <a href='vscode-notebook-cell:/c%3A/Users/lmy/Git/OCR-GAUN/extract.ipynb#X10sZmlsZQ%3D%3D?line=37'>38</a>\u001b[0m df \u001b[39m=\u001b[39m pd\u001b[39m.\u001b[39mDataFrame(rows, columns \u001b[39m=\u001b[39m column_list)\n\u001b[1;32m---> <a href='vscode-notebook-cell:/c%3A/Users/lmy/Git/OCR-GAUN/extract.ipynb#X10sZmlsZQ%3D%3D?line=38'>39</a>\u001b[0m df\u001b[39m.\u001b[39;49mto_csv(csv_path, index \u001b[39m=\u001b[39;49m \u001b[39mFalse\u001b[39;49;00m) \n\u001b[0;32m     <a href='vscode-notebook-cell:/c%3A/Users/lmy/Git/OCR-GAUN/extract.ipynb#X10sZmlsZQ%3D%3D?line=39'>40</a>\u001b[0m \u001b[39mif\u001b[39;00m count \u001b[39m==\u001b[39m \u001b[39m30\u001b[39m:\n\u001b[0;32m     <a href='vscode-notebook-cell:/c%3A/Users/lmy/Git/OCR-GAUN/extract.ipynb#X10sZmlsZQ%3D%3D?line=40'>41</a>\u001b[0m     \u001b[39mbreak\u001b[39;00m\n",
      "File \u001b[1;32m~\\AppData\\Local\\Packages\\PythonSoftwareFoundation.Python.3.9_qbz5n2kfra8p0\\LocalCache\\local-packages\\Python39\\site-packages\\pandas\\core\\generic.py:3563\u001b[0m, in \u001b[0;36mNDFrame.to_csv\u001b[1;34m(self, path_or_buf, sep, na_rep, float_format, columns, header, index, index_label, mode, encoding, compression, quoting, quotechar, line_terminator, chunksize, date_format, doublequote, escapechar, decimal, errors, storage_options)\u001b[0m\n\u001b[0;32m   3552\u001b[0m df \u001b[39m=\u001b[39m \u001b[39mself\u001b[39m \u001b[39mif\u001b[39;00m \u001b[39misinstance\u001b[39m(\u001b[39mself\u001b[39m, ABCDataFrame) \u001b[39melse\u001b[39;00m \u001b[39mself\u001b[39m\u001b[39m.\u001b[39mto_frame()\n\u001b[0;32m   3554\u001b[0m formatter \u001b[39m=\u001b[39m DataFrameFormatter(\n\u001b[0;32m   3555\u001b[0m     frame\u001b[39m=\u001b[39mdf,\n\u001b[0;32m   3556\u001b[0m     header\u001b[39m=\u001b[39mheader,\n\u001b[1;32m   (...)\u001b[0m\n\u001b[0;32m   3560\u001b[0m     decimal\u001b[39m=\u001b[39mdecimal,\n\u001b[0;32m   3561\u001b[0m )\n\u001b[1;32m-> 3563\u001b[0m \u001b[39mreturn\u001b[39;00m DataFrameRenderer(formatter)\u001b[39m.\u001b[39;49mto_csv(\n\u001b[0;32m   3564\u001b[0m     path_or_buf,\n\u001b[0;32m   3565\u001b[0m     line_terminator\u001b[39m=\u001b[39;49mline_terminator,\n\u001b[0;32m   3566\u001b[0m     sep\u001b[39m=\u001b[39;49msep,\n\u001b[0;32m   3567\u001b[0m     encoding\u001b[39m=\u001b[39;49mencoding,\n\u001b[0;32m   3568\u001b[0m     errors\u001b[39m=\u001b[39;49merrors,\n\u001b[0;32m   3569\u001b[0m     compression\u001b[39m=\u001b[39;49mcompression,\n\u001b[0;32m   3570\u001b[0m     quoting\u001b[39m=\u001b[39;49mquoting,\n\u001b[0;32m   3571\u001b[0m     columns\u001b[39m=\u001b[39;49mcolumns,\n\u001b[0;32m   3572\u001b[0m     index_label\u001b[39m=\u001b[39;49mindex_label,\n\u001b[0;32m   3573\u001b[0m     mode\u001b[39m=\u001b[39;49mmode,\n\u001b[0;32m   3574\u001b[0m     chunksize\u001b[39m=\u001b[39;49mchunksize,\n\u001b[0;32m   3575\u001b[0m     quotechar\u001b[39m=\u001b[39;49mquotechar,\n\u001b[0;32m   3576\u001b[0m     date_format\u001b[39m=\u001b[39;49mdate_format,\n\u001b[0;32m   3577\u001b[0m     doublequote\u001b[39m=\u001b[39;49mdoublequote,\n\u001b[0;32m   3578\u001b[0m     escapechar\u001b[39m=\u001b[39;49mescapechar,\n\u001b[0;32m   3579\u001b[0m     storage_options\u001b[39m=\u001b[39;49mstorage_options,\n\u001b[0;32m   3580\u001b[0m )\n",
      "File \u001b[1;32m~\\AppData\\Local\\Packages\\PythonSoftwareFoundation.Python.3.9_qbz5n2kfra8p0\\LocalCache\\local-packages\\Python39\\site-packages\\pandas\\io\\formats\\format.py:1180\u001b[0m, in \u001b[0;36mDataFrameRenderer.to_csv\u001b[1;34m(self, path_or_buf, encoding, sep, columns, index_label, mode, compression, quoting, quotechar, line_terminator, chunksize, date_format, doublequote, escapechar, errors, storage_options)\u001b[0m\n\u001b[0;32m   1159\u001b[0m     created_buffer \u001b[39m=\u001b[39m \u001b[39mFalse\u001b[39;00m\n\u001b[0;32m   1161\u001b[0m csv_formatter \u001b[39m=\u001b[39m CSVFormatter(\n\u001b[0;32m   1162\u001b[0m     path_or_buf\u001b[39m=\u001b[39mpath_or_buf,\n\u001b[0;32m   1163\u001b[0m     line_terminator\u001b[39m=\u001b[39mline_terminator,\n\u001b[1;32m   (...)\u001b[0m\n\u001b[0;32m   1178\u001b[0m     formatter\u001b[39m=\u001b[39m\u001b[39mself\u001b[39m\u001b[39m.\u001b[39mfmt,\n\u001b[0;32m   1179\u001b[0m )\n\u001b[1;32m-> 1180\u001b[0m csv_formatter\u001b[39m.\u001b[39;49msave()\n\u001b[0;32m   1182\u001b[0m \u001b[39mif\u001b[39;00m created_buffer:\n\u001b[0;32m   1183\u001b[0m     \u001b[39massert\u001b[39;00m \u001b[39misinstance\u001b[39m(path_or_buf, StringIO)\n",
      "File \u001b[1;32m~\\AppData\\Local\\Packages\\PythonSoftwareFoundation.Python.3.9_qbz5n2kfra8p0\\LocalCache\\local-packages\\Python39\\site-packages\\pandas\\io\\formats\\csvs.py:241\u001b[0m, in \u001b[0;36mCSVFormatter.save\u001b[1;34m(self)\u001b[0m\n\u001b[0;32m    237\u001b[0m \u001b[39m\"\"\"\u001b[39;00m\n\u001b[0;32m    238\u001b[0m \u001b[39mCreate the writer & save.\u001b[39;00m\n\u001b[0;32m    239\u001b[0m \u001b[39m\"\"\"\u001b[39;00m\n\u001b[0;32m    240\u001b[0m \u001b[39m# apply compression and byte/text conversion\u001b[39;00m\n\u001b[1;32m--> 241\u001b[0m \u001b[39mwith\u001b[39;00m get_handle(\n\u001b[0;32m    242\u001b[0m     \u001b[39mself\u001b[39;49m\u001b[39m.\u001b[39;49mfilepath_or_buffer,\n\u001b[0;32m    243\u001b[0m     \u001b[39mself\u001b[39;49m\u001b[39m.\u001b[39;49mmode,\n\u001b[0;32m    244\u001b[0m     encoding\u001b[39m=\u001b[39;49m\u001b[39mself\u001b[39;49m\u001b[39m.\u001b[39;49mencoding,\n\u001b[0;32m    245\u001b[0m     errors\u001b[39m=\u001b[39;49m\u001b[39mself\u001b[39;49m\u001b[39m.\u001b[39;49merrors,\n\u001b[0;32m    246\u001b[0m     compression\u001b[39m=\u001b[39;49m\u001b[39mself\u001b[39;49m\u001b[39m.\u001b[39;49mcompression,\n\u001b[0;32m    247\u001b[0m     storage_options\u001b[39m=\u001b[39;49m\u001b[39mself\u001b[39;49m\u001b[39m.\u001b[39;49mstorage_options,\n\u001b[0;32m    248\u001b[0m ) \u001b[39mas\u001b[39;00m handles:\n\u001b[0;32m    249\u001b[0m \n\u001b[0;32m    250\u001b[0m     \u001b[39m# Note: self.encoding is irrelevant here\u001b[39;00m\n\u001b[0;32m    251\u001b[0m     \u001b[39mself\u001b[39m\u001b[39m.\u001b[39mwriter \u001b[39m=\u001b[39m csvlib\u001b[39m.\u001b[39mwriter(\n\u001b[0;32m    252\u001b[0m         handles\u001b[39m.\u001b[39mhandle,\n\u001b[0;32m    253\u001b[0m         lineterminator\u001b[39m=\u001b[39m\u001b[39mself\u001b[39m\u001b[39m.\u001b[39mline_terminator,\n\u001b[1;32m   (...)\u001b[0m\n\u001b[0;32m    258\u001b[0m         quotechar\u001b[39m=\u001b[39m\u001b[39mself\u001b[39m\u001b[39m.\u001b[39mquotechar,\n\u001b[0;32m    259\u001b[0m     )\n\u001b[0;32m    261\u001b[0m     \u001b[39mself\u001b[39m\u001b[39m.\u001b[39m_save()\n",
      "File \u001b[1;32m~\\AppData\\Local\\Packages\\PythonSoftwareFoundation.Python.3.9_qbz5n2kfra8p0\\LocalCache\\local-packages\\Python39\\site-packages\\pandas\\io\\common.py:789\u001b[0m, in \u001b[0;36mget_handle\u001b[1;34m(path_or_buf, mode, encoding, compression, memory_map, is_text, errors, storage_options)\u001b[0m\n\u001b[0;32m    784\u001b[0m \u001b[39melif\u001b[39;00m \u001b[39misinstance\u001b[39m(handle, \u001b[39mstr\u001b[39m):\n\u001b[0;32m    785\u001b[0m     \u001b[39m# Check whether the filename is to be opened in binary mode.\u001b[39;00m\n\u001b[0;32m    786\u001b[0m     \u001b[39m# Binary mode does not support 'encoding' and 'newline'.\u001b[39;00m\n\u001b[0;32m    787\u001b[0m     \u001b[39mif\u001b[39;00m ioargs\u001b[39m.\u001b[39mencoding \u001b[39mand\u001b[39;00m \u001b[39m\"\u001b[39m\u001b[39mb\u001b[39m\u001b[39m\"\u001b[39m \u001b[39mnot\u001b[39;00m \u001b[39min\u001b[39;00m ioargs\u001b[39m.\u001b[39mmode:\n\u001b[0;32m    788\u001b[0m         \u001b[39m# Encoding\u001b[39;00m\n\u001b[1;32m--> 789\u001b[0m         handle \u001b[39m=\u001b[39m \u001b[39mopen\u001b[39;49m(\n\u001b[0;32m    790\u001b[0m             handle,\n\u001b[0;32m    791\u001b[0m             ioargs\u001b[39m.\u001b[39;49mmode,\n\u001b[0;32m    792\u001b[0m             encoding\u001b[39m=\u001b[39;49mioargs\u001b[39m.\u001b[39;49mencoding,\n\u001b[0;32m    793\u001b[0m             errors\u001b[39m=\u001b[39;49merrors,\n\u001b[0;32m    794\u001b[0m             newline\u001b[39m=\u001b[39;49m\u001b[39m\"\u001b[39;49m\u001b[39m\"\u001b[39;49m,\n\u001b[0;32m    795\u001b[0m         )\n\u001b[0;32m    796\u001b[0m     \u001b[39melse\u001b[39;00m:\n\u001b[0;32m    797\u001b[0m         \u001b[39m# Binary mode\u001b[39;00m\n\u001b[0;32m    798\u001b[0m         handle \u001b[39m=\u001b[39m \u001b[39mopen\u001b[39m(handle, ioargs\u001b[39m.\u001b[39mmode)\n",
      "\u001b[1;31mPermissionError\u001b[0m: [Errno 13] Permission denied: './csv_folder\\\\Afghanistan.csv'"
     ]
    }
   ],
   "source": [
    "# Path to the folder containing the PDF files\n",
    "pdf_folder = './Dataset'\n",
    "\n",
    "# Path to the folder where the CSV files will be saved\n",
    "csv_folder = './csv_folder'\n",
    "\n",
    "# csv file column list\n",
    "column_list = ['year', 'Council', 'Session', 'Agenda item', 'Agenda detail', 'cosponsored countries', \n",
    "               'body title number',\t'body title detail', 'body text', 'date', 'footnote', 'scanned', \n",
    "               'file', 'filecountry']\n",
    "\n",
    "# Loop through each folder and PDF file and extract text\n",
    "for country_folder in os.listdir(pdf_folder):\n",
    "    print('---------------' + country_folder + '---------------' )\n",
    "    if not os.path.isdir(os.path.join(pdf_folder, country_folder)):\n",
    "        continue\n",
    "    csv_path = os.path.join(csv_folder, f\"{country_folder}.csv\")\n",
    "    rows = []\n",
    "    count = 0\n",
    "    # Loop through each file \n",
    "    for pdf_file in os.listdir(os.path.join(pdf_folder, country_folder)):\n",
    "        if not pdf_file.endswith('.pdf'):\n",
    "            continue\n",
    "        # check if this file is old-version\n",
    "        year = int(pdf_file.split('_')[0])\n",
    "        if year < 1994:\n",
    "            continue\n",
    "\n",
    "        pdf_path = os.path.join(pdf_folder, country_folder, pdf_file).replace('\\\\', '/')\n",
    "        print(pdf_path)\n",
    "        # try:\n",
    "        text = extract_text_from_pdf(pdf_path)\n",
    "        text_columns = classify_text_to_column(text)\n",
    "        row = text_columns + [pdf_file[:-4], country_folder] #add column K and L\n",
    "        rows.append(row)\n",
    "        count += 1\n",
    "        #print(rows)\n",
    "        df = pd.DataFrame(rows, columns = column_list)\n",
    "        df.to_csv(csv_path, index = False) \n",
    "        if count == 30:\n",
    "            break\n",
    "        # except:\n",
    "        #     print(f\"Error extracting text from {pdf_path}\")\n",
    "        #     continue\n",
    "    break\n",
    "    # Write the rows to the CSV file\n",
    "    df = pd.DataFrame(rows, columns = column_list)\n",
    "    df.to_csv(csv_path, index = False)  "
   ]
  },
  {
   "cell_type": "code",
   "execution_count": 147,
   "metadata": {},
   "outputs": [
    {
     "data": {
      "text/plain": [
       "'UNITED\\nNATIONS A\\n\\n@) General Assembly oiste,\\n—— 3\\n\\nLIMITED\\n\\nA/C.3/49/L.20\\n15 November 1994\\n\\nORIGINAL: ENGLISH\\n\\nForty-ninth session\\nTHIRD COMMITTEE\\nAgenda item 102\\n\\nPREPARATION FOR AND ORGANIZATION OF THE UNITED NATIONS\\nYEAR FOR TOLERANCE\\n\\nAfghanistan, Albania, Algeria, Azerbaijan, Benin, Chile,\\n\\nCosta Rica, Egypt, India, Kyrgyzstan, Morocco, Pakistan,\\n\\nPeru, Senegal, Togo, Tunisia, Turkey and Ukraine: draft\\nresolution\\n\\nUnited Nations Year for Tolerance\\n\\nThe General Assembly,\\n\\nRecalling its resolution 48/126 of 20 December 1993, by which it proclaimed\\n1995 the United Nations Year for Tolerance,\\n\\nRecalling also that the Charter of the United Nations affirms in its\\npreamble that to practise tolerance is one of the principles to be applied to\\nattain the ends pursued by the United Nations of preventing war and maintaining\\npeace,\\n\\nStressing that one of the purposes of the United Nations as set forth in\\nthe Charter is the achievement of international cooperation in solving\\ninternational problems of an economic, social, cultural or humanitarian\\ncharacter and in promoting and encouraging respect for human rights and for\\nfundamental freedoms for all without distinction as to race, sex, language or\\nreligion,\\n\\nMindful of the Universal Declaration of Human Rights 1/ and of the\\nInternational Covenants on Human Rights, 2/\\n\\n1/ Resolution 217 A (III).\\n2/ Resolution 2200 A (XXI), annex.\\n\\n94-44980 (EB) 171194 Jase\\n\\nA/C.3/49/L.20\\nEnglish\\nPage 2\\n\\nBearing in mind the Vienna Declaration and Programme of Action 3/ adopted\\nby the World Conference on Human Rights, held at Vienna from 14 to 25 June 1993,\\n\\nConvinced that tolerance is the sound foundation of any civil society and\\nof peace,\\n\\nBearing in mind its decision of 35/424 of 5 December 1980 and Economic and\\nSocial Council resolution 1980/67 of 25 July 1980 concerning guidelines for\\ninternational years and anniversaries,\\n\\nNoting that the observance of the United Nations Year for Tolerance will\\nnot involve any financial implications for the United Nations,\\n\\nTaking note of the note by the Secretary-General 4/ transmitting the\\nreport of the Director-General of the United Nations Educational, Scientific and\\nCultural Organization,\\n\\n1. Welcomes the fact that the United Nations Educational, Scientific and\\nCultural Organization will assume the role of lead organization for the United\\nNations Year for Tolerance;\\n\\n2. Recommends that the specialized agencies, regional commissions and\\nother organizations of the United Nations system consider in their respective\\nforums the contributions they could make to the success of the United Nations\\nYear for Tolerance;\\n\\n3. Calls upon all Member States to cooperate with the United Nations\\nEducational Scientific and Cultural Organization in the observance of the\\nnational and international programmes for the Year and to participate actively\\nin the implementation of the activities to be organized within the framework of\\nthe Year;\\n\\n4. Invites interested intergovernmental and non-governmental\\norganizations to exert efforts in their respective fields to contribute\\nadequately to the programmes for the Year and to the follow-up programme for the\\nYear;\\n\\n5. Requests the United Nations Educational, Scientific and Cultural\\nOrganization to prepare for the conclusion of the Year a declaration of\\nprinciples and a programme of action as a follow-up to the Year, and to submit\\nthem to the General Assembly at its fifty-first session;\\n\\n6. Decides to mark the end of the Year at a special commemorative plenary\\n\\nmeeting at its fiftieth session and to review the follow-up to the Year at its\\nfifty-first session.\\n\\n3/ Report of the World Conference on Human Rights, Vienna,\\n14-25 June 1993 (A/CONF.157/24 (Part I), chap. III).\\n\\n4/ A/49/457.\\n'"
      ]
     },
     "execution_count": 147,
     "metadata": {},
     "output_type": "execute_result"
    }
   ],
   "source": [
    "test"
   ]
  },
  {
   "cell_type": "code",
   "execution_count": 142,
   "metadata": {},
   "outputs": [],
   "source": [
    "test = extract_text_from_pdf('./Dataset/Afghanistan/1994_164949.pdf')"
   ]
  },
  {
   "cell_type": "code",
   "execution_count": 148,
   "metadata": {},
   "outputs": [
    {
     "ename": "IndexError",
     "evalue": "list index out of range",
     "output_type": "error",
     "traceback": [
      "\u001b[1;31m---------------------------------------------------------------------------\u001b[0m",
      "\u001b[1;31mIndexError\u001b[0m                                Traceback (most recent call last)",
      "\u001b[1;32mc:\\Users\\lmy\\Git\\OCR-GAUN\\extract.ipynb Cell 9\u001b[0m in \u001b[0;36m<module>\u001b[1;34m\u001b[0m\n\u001b[1;32m----> <a href='vscode-notebook-cell:/c%3A/Users/lmy/Git/OCR-GAUN/extract.ipynb#X20sZmlsZQ%3D%3D?line=0'>1</a>\u001b[0m classify_text_to_column(test)\n",
      "\u001b[1;32mc:\\Users\\lmy\\Git\\OCR-GAUN\\extract.ipynb Cell 9\u001b[0m in \u001b[0;36mclassify_text_to_column\u001b[1;34m(text)\u001b[0m\n\u001b[0;32m     <a href='vscode-notebook-cell:/c%3A/Users/lmy/Git/OCR-GAUN/extract.ipynb#X20sZmlsZQ%3D%3D?line=70'>71</a>\u001b[0m \u001b[39m# delete extracted text\u001b[39;00m\n\u001b[0;32m     <a href='vscode-notebook-cell:/c%3A/Users/lmy/Git/OCR-GAUN/extract.ipynb#X20sZmlsZQ%3D%3D?line=71'>72</a>\u001b[0m split_text \u001b[39m=\u001b[39m re\u001b[39m.\u001b[39msplit(split_pattern, text, flags\u001b[39m=\u001b[39mre\u001b[39m.\u001b[39mIGNORECASE)\n\u001b[1;32m---> <a href='vscode-notebook-cell:/c%3A/Users/lmy/Git/OCR-GAUN/extract.ipynb#X20sZmlsZQ%3D%3D?line=72'>73</a>\u001b[0m remain_text \u001b[39m=\u001b[39m split_text[\u001b[39m1\u001b[39;49m]\n\u001b[0;32m     <a href='vscode-notebook-cell:/c%3A/Users/lmy/Git/OCR-GAUN/extract.ipynb#X20sZmlsZQ%3D%3D?line=73'>74</a>\u001b[0m \u001b[39m#print(remain_text)\u001b[39;00m\n\u001b[0;32m     <a href='vscode-notebook-cell:/c%3A/Users/lmy/Git/OCR-GAUN/extract.ipynb#X20sZmlsZQ%3D%3D?line=74'>75</a>\u001b[0m \n\u001b[0;32m     <a href='vscode-notebook-cell:/c%3A/Users/lmy/Git/OCR-GAUN/extract.ipynb#X20sZmlsZQ%3D%3D?line=75'>76</a>\u001b[0m \n\u001b[0;32m     <a href='vscode-notebook-cell:/c%3A/Users/lmy/Git/OCR-GAUN/extract.ipynb#X20sZmlsZQ%3D%3D?line=76'>77</a>\u001b[0m \u001b[39m# extract Body title number (G)\u001b[39;00m\n\u001b[0;32m     <a href='vscode-notebook-cell:/c%3A/Users/lmy/Git/OCR-GAUN/extract.ipynb#X20sZmlsZQ%3D%3D?line=77'>78</a>\u001b[0m \u001b[39m# Split the text into lines\u001b[39;00m\n\u001b[0;32m     <a href='vscode-notebook-cell:/c%3A/Users/lmy/Git/OCR-GAUN/extract.ipynb#X20sZmlsZQ%3D%3D?line=78'>79</a>\u001b[0m lines \u001b[39m=\u001b[39m remain_text\u001b[39m.\u001b[39msplit(\u001b[39m'\u001b[39m\u001b[39m\\n\u001b[39;00m\u001b[39m'\u001b[39m)\n",
      "\u001b[1;31mIndexError\u001b[0m: list index out of range"
     ]
    }
   ],
   "source": [
    "classify_text_to_column(test)"
   ]
  }
 ],
 "metadata": {
  "kernelspec": {
   "display_name": "Python 3",
   "language": "python",
   "name": "python3"
  },
  "language_info": {
   "codemirror_mode": {
    "name": "ipython",
    "version": 3
   },
   "file_extension": ".py",
   "mimetype": "text/x-python",
   "name": "python",
   "nbconvert_exporter": "python",
   "pygments_lexer": "ipython3",
   "version": "3.9.13"
  },
  "orig_nbformat": 4,
  "vscode": {
   "interpreter": {
    "hash": "e458c25decc5a85e5a64c322411a3149390d0cc49d8006d301337b209f73e58a"
   }
  }
 },
 "nbformat": 4,
 "nbformat_minor": 2
}
