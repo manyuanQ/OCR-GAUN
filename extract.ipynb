{
 "cells": [
  {
   "cell_type": "code",
   "execution_count": 1,
   "metadata": {},
   "outputs": [
    {
     "name": "stdout",
     "output_type": "stream",
     "text": [
      "Requirement already satisfied: pytesseract in c:\\users\\lmy\\appdata\\local\\packages\\pythonsoftwarefoundation.python.3.9_qbz5n2kfra8p0\\localcache\\local-packages\\python39\\site-packages (0.3.10)"
     ]
    },
    {
     "name": "stderr",
     "output_type": "stream",
     "text": [
      "WARNING: You are using pip version 22.0.4; however, version 23.0.1 is available.\n",
      "You should consider upgrading via the 'C:\\Users\\lmy\\AppData\\Local\\Microsoft\\WindowsApps\\PythonSoftwareFoundation.Python.3.9_qbz5n2kfra8p0\\python.exe -m pip install --upgrade pip' command.\n"
     ]
    },
    {
     "name": "stdout",
     "output_type": "stream",
     "text": [
      "\n",
      "Requirement already satisfied: packaging>=21.3 in c:\\users\\lmy\\appdata\\local\\packages\\pythonsoftwarefoundation.python.3.9_qbz5n2kfra8p0\\localcache\\local-packages\\python39\\site-packages (from pytesseract) (21.3)\n",
      "Requirement already satisfied: Pillow>=8.0.0 in c:\\users\\lmy\\appdata\\local\\packages\\pythonsoftwarefoundation.python.3.9_qbz5n2kfra8p0\\localcache\\local-packages\\python39\\site-packages (from pytesseract) (9.0.1)\n",
      "Requirement already satisfied: pyparsing!=3.0.5,>=2.0.2 in c:\\users\\lmy\\appdata\\local\\packages\\pythonsoftwarefoundation.python.3.9_qbz5n2kfra8p0\\localcache\\local-packages\\python39\\site-packages (from packaging>=21.3->pytesseract) (3.0.7)\n",
      "Requirement already satisfied: pdf2image in c:\\users\\lmy\\appdata\\local\\packages\\pythonsoftwarefoundation.python.3.9_qbz5n2kfra8p0\\localcache\\local-packages\\python39\\site-packages (1.16.2)\n",
      "Requirement already satisfied: pillow in c:\\users\\lmy\\appdata\\local\\packages\\pythonsoftwarefoundation.python.3.9_qbz5n2kfra8p0\\localcache\\local-packages\\python39\\site-packages (from pdf2image) (9.0.1)\n"
     ]
    },
    {
     "name": "stderr",
     "output_type": "stream",
     "text": [
      "WARNING: You are using pip version 22.0.4; however, version 23.0.1 is available.\n",
      "You should consider upgrading via the 'C:\\Users\\lmy\\AppData\\Local\\Microsoft\\WindowsApps\\PythonSoftwareFoundation.Python.3.9_qbz5n2kfra8p0\\python.exe -m pip install --upgrade pip' command.\n"
     ]
    }
   ],
   "source": [
    "# install packages\n",
    "!pip install pytesseract\n",
    "!pip install pdf2image"
   ]
  },
  {
   "cell_type": "code",
   "execution_count": 1,
   "metadata": {},
   "outputs": [],
   "source": [
    "# import packages\n",
    "import pytesseract\n",
    "from pdf2image import convert_from_path\n",
    "import os\n",
    "import re\n",
    "from datetime import datetime\n",
    "import pandas as pd"
   ]
  },
  {
   "cell_type": "code",
   "execution_count": 2,
   "metadata": {},
   "outputs": [],
   "source": [
    "# Function to extract text from a PDF file\n",
    "pytesseract.pytesseract.tesseract_cmd = r'C:\\Program Files\\Tesseract-OCR\\tesseract.exe'  \n",
    "\n",
    "def extract_text_from_pdf(pdf_path):\n",
    "    # Convert the PDF to a list of PIL Image objects\n",
    "    images = convert_from_path(pdf_path)\n",
    "    text_list = []\n",
    "    # Loop through each page of the PDF and extract text using Tesseract\n",
    "    for image in images:\n",
    "        text = pytesseract.image_to_string(image)\n",
    "        text_list.append(text)\n",
    "    # Combine text from all pages into a single string\n",
    "    text = '\\n'.join(text_list)\n",
    "    return text"
   ]
  },
  {
   "cell_type": "code",
   "execution_count": 61,
   "metadata": {},
   "outputs": [],
   "source": [
    "# Define the regex pattern to match the date\n",
    "date_pattern = r'\\b\\d{1,2}\\s+(?:January|February|March|April|May|June|July|August|September|October|November|December)\\s+\\d{4}\\b'\n",
    "council_pattern = r'(?i)(\\b[A-Za-z]+\\s(?:Council|Committee|COMMITTEE)\\b)'\n",
    "session_pattern = r'(?P<session>[\\w-]+\\ssession)'\n",
    "agenda_pattern = r'(?i)Agenda item (\\d+)'\n",
    "agenda_detail_pattern = r\"Agenda item \\d+(.*?)(draft resolution|draft(?:\\n\\n)?resolution)\"\n",
    "footnote_pattern = r'^(\\*|\\d{1})\\s.*'\n",
    "split_pattern = r'draft resolution|draft(?:\\n\\n)?resolution'"
   ]
  },
  {
   "cell_type": "code",
   "execution_count": 66,
   "metadata": {},
   "outputs": [],
   "source": [
    "# Function to classify text into column A to N\n",
    "def classify_text_to_column(text):\n",
    "    result = []\n",
    "\n",
    "    # extract year and date (A and J)\n",
    "    # Search for the date in the text\n",
    "    match = re.search(date_pattern, text)\n",
    "    if match:\n",
    "        date = match.group(0)\n",
    "        date_obj = datetime.strptime(date, '%d %B %Y')\n",
    "        new_date = date_obj.strftime('%m/%d/%Y') #column J\n",
    "        year = new_date[-4:] #column A\n",
    "    else:\n",
    "        date, year = 'N/A'\n",
    "        print(\"No date found\")\n",
    "    result.append(year)\n",
    "\n",
    "\n",
    "    # extract council/committe name (B)\n",
    "    first_twenty_lines = text.split('\\n')[:20]\n",
    "    \n",
    "    for line in first_twenty_lines:\n",
    "        match = re.search(council_pattern, line)\n",
    "        if match:\n",
    "            council = match.group(0)\n",
    "        else:\n",
    "            council = 'N/A'\n",
    "            #print(\"No council found\")\n",
    "    result.append(council)\n",
    "\n",
    "\n",
    "    # extract session (C)\n",
    "    match = re.search(session_pattern, text)\n",
    "    if match:\n",
    "        session = match.group(\"session\")\n",
    "    else:\n",
    "        session = 'N/A'\n",
    "        print(\"Session information not found.\")\n",
    "    result.append(session)\n",
    "\n",
    "\n",
    "    # extract Agenda item (D)\n",
    "    match = re.search(agenda_pattern, text)\n",
    "    if match:\n",
    "        agenda_item = match.group(1)\n",
    "    else:\n",
    "        agenda_item = 'N/A'\n",
    "        print(\"No match found\")\n",
    "    result.append(agenda_item)\n",
    "\n",
    "\n",
    "    # extract Agenda detail (E) and countries (F)\n",
    "    match = re.search(agenda_detail_pattern, text, re.DOTALL)\n",
    "    if match:\n",
    "        agenda_item_text = match.group(1).strip()\n",
    "    parts = agenda_item_text.split(\"\\n\\n\")\n",
    "    parts = [s.replace('\\n', '') for s in parts]\n",
    "    result.append(parts[0])\n",
    "    result.append(parts[1][:-1])\n",
    "\n",
    "\n",
    "    # delete extracted text\n",
    "    split_text = re.split(split_pattern, text, flags=re.IGNORECASE)\n",
    "    remain_text = split_text[1]\n",
    "    #print(remain_text)\n",
    "\n",
    "\n",
    "    # extract Body title number (G)\n",
    "    # Split the text into lines\n",
    "    lines = remain_text.split('\\n')\n",
    "    # Get the first non-empty line\n",
    "    first_line = next(line for line in lines if line.strip())\n",
    "    # Check if the first non-empty character is a number using regular expressions\n",
    "    match = re.match(r'^\\d+', first_line)\n",
    "    if match:\n",
    "        # If the first non-empty character is a number, extract it\n",
    "        number = match.group(0)\n",
    "    else:\n",
    "        number = 'N/A'\n",
    "    result.append(number)\n",
    "\n",
    "\n",
    "    # Body title (H)\n",
    "    # split the text into paragraphs\n",
    "    paragraphs = remain_text.split('\\n\\n')\n",
    "    # get the text content of the first paragraph\n",
    "    first_paragraph = paragraphs[1]\n",
    "    if first_paragraph != \"The General Assembly,\":\n",
    "        first_paragraph = first_paragraph.replace('\\n', ' ') \n",
    "        result.append(first_paragraph)\n",
    "    else:\n",
    "        idx = 1\n",
    "        result.append('N/A')\n",
    "\n",
    "\n",
    "    # Body text (I)\n",
    "    # extract the text content from the second non-empty paragraph\n",
    "    body_text = ''\n",
    "    footnote = ''\n",
    "    for paragraph in paragraphs[idx:]:\n",
    "        for line in paragraph.split('\\n'):\n",
    "            # exclude lines containing specific patterns\n",
    "            #print(line)\n",
    "            match = re.search(footnote, line)\n",
    "            if match:\n",
    "                footnote += match.group(0)\n",
    "            else:\n",
    "                if not re.search(r'^(\\d{2}-\\d{5}|[A-Za-z]/\\d{2}/[A-Za-z]\\.\\d|[A-Za-z ]+Please recycle)', line):\n",
    "                    body_text += line.strip() + ' '\n",
    "    result.append(body_text)\n",
    "\n",
    "    # date (J)\n",
    "    result.append(date)\n",
    "    \n",
    "    # # file name (K) and country (L) will be obtained outside\n",
    "\n",
    "    # footnote (M)\n",
    "    result.append(footnote)\n",
    "\n",
    "    # scanned (N), cannot know \n",
    "    if int(year) > 1990:\n",
    "        scanned = 'yes'\n",
    "    else:\n",
    "        scanned = 'no'\n",
    "    result.append(scanned)\n",
    "    \n",
    "    return result"
   ]
  },
  {
   "cell_type": "code",
   "execution_count": 54,
   "metadata": {},
   "outputs": [
    {
     "name": "stdout",
     "output_type": "stream",
     "text": [
      "---------------Afghanistan---------------\n",
      "./Dataset/Afghanistan/1994_163336.pdf\n"
     ]
    },
    {
     "ename": "UnboundLocalError",
     "evalue": "local variable 'agenda_item_text' referenced before assignment",
     "output_type": "error",
     "traceback": [
      "\u001b[1;31m---------------------------------------------------------------------------\u001b[0m",
      "\u001b[1;31mUnboundLocalError\u001b[0m                         Traceback (most recent call last)",
      "\u001b[1;32mc:\\Users\\lmy\\Git\\OCR-GAUN\\extract.ipynb Cell 6\u001b[0m in \u001b[0;36m<module>\u001b[1;34m\u001b[0m\n\u001b[0;32m     <a href='vscode-notebook-cell:/c%3A/Users/lmy/Git/OCR-GAUN/extract.ipynb#X10sZmlsZQ%3D%3D?line=29'>30</a>\u001b[0m \u001b[39m# try:\u001b[39;00m\n\u001b[0;32m     <a href='vscode-notebook-cell:/c%3A/Users/lmy/Git/OCR-GAUN/extract.ipynb#X10sZmlsZQ%3D%3D?line=30'>31</a>\u001b[0m text \u001b[39m=\u001b[39m extract_text_from_pdf(pdf_path)\n\u001b[1;32m---> <a href='vscode-notebook-cell:/c%3A/Users/lmy/Git/OCR-GAUN/extract.ipynb#X10sZmlsZQ%3D%3D?line=31'>32</a>\u001b[0m text_columns \u001b[39m=\u001b[39m classify_text_to_column(text)\n\u001b[0;32m     <a href='vscode-notebook-cell:/c%3A/Users/lmy/Git/OCR-GAUN/extract.ipynb#X10sZmlsZQ%3D%3D?line=32'>33</a>\u001b[0m row \u001b[39m=\u001b[39m text_columns \u001b[39m+\u001b[39m [pdf_file, country_folder] \u001b[39m#add column K and L\u001b[39;00m\n\u001b[0;32m     <a href='vscode-notebook-cell:/c%3A/Users/lmy/Git/OCR-GAUN/extract.ipynb#X10sZmlsZQ%3D%3D?line=33'>34</a>\u001b[0m rows\u001b[39m.\u001b[39mappend(row)\n",
      "\u001b[1;32mc:\\Users\\lmy\\Git\\OCR-GAUN\\extract.ipynb Cell 6\u001b[0m in \u001b[0;36mclassify_text_to_column\u001b[1;34m(text)\u001b[0m\n\u001b[0;32m     <a href='vscode-notebook-cell:/c%3A/Users/lmy/Git/OCR-GAUN/extract.ipynb#X10sZmlsZQ%3D%3D?line=53'>54</a>\u001b[0m \u001b[39mif\u001b[39;00m match:\n\u001b[0;32m     <a href='vscode-notebook-cell:/c%3A/Users/lmy/Git/OCR-GAUN/extract.ipynb#X10sZmlsZQ%3D%3D?line=54'>55</a>\u001b[0m     agenda_item_text \u001b[39m=\u001b[39m match\u001b[39m.\u001b[39mgroup(\u001b[39m1\u001b[39m)\u001b[39m.\u001b[39mstrip()\n\u001b[1;32m---> <a href='vscode-notebook-cell:/c%3A/Users/lmy/Git/OCR-GAUN/extract.ipynb#X10sZmlsZQ%3D%3D?line=55'>56</a>\u001b[0m parts \u001b[39m=\u001b[39m agenda_item_text\u001b[39m.\u001b[39msplit(\u001b[39m\"\u001b[39m\u001b[39m\\n\u001b[39;00m\u001b[39m\\n\u001b[39;00m\u001b[39m\"\u001b[39m)\n\u001b[0;32m     <a href='vscode-notebook-cell:/c%3A/Users/lmy/Git/OCR-GAUN/extract.ipynb#X10sZmlsZQ%3D%3D?line=56'>57</a>\u001b[0m parts \u001b[39m=\u001b[39m [s\u001b[39m.\u001b[39mreplace(\u001b[39m'\u001b[39m\u001b[39m\\n\u001b[39;00m\u001b[39m'\u001b[39m, \u001b[39m'\u001b[39m\u001b[39m'\u001b[39m) \u001b[39mfor\u001b[39;00m s \u001b[39min\u001b[39;00m parts]\n\u001b[0;32m     <a href='vscode-notebook-cell:/c%3A/Users/lmy/Git/OCR-GAUN/extract.ipynb#X10sZmlsZQ%3D%3D?line=57'>58</a>\u001b[0m result\u001b[39m.\u001b[39mappend(parts[\u001b[39m0\u001b[39m])\n",
      "\u001b[1;31mUnboundLocalError\u001b[0m: local variable 'agenda_item_text' referenced before assignment"
     ]
    }
   ],
   "source": [
    "# Path to the folder containing the PDF files\n",
    "pdf_folder = './Dataset'\n",
    "\n",
    "# Path to the folder where the CSV files will be saved\n",
    "csv_folder = './csv_folder'\n",
    "\n",
    "# csv file column list\n",
    "column_list = ['year', 'Council', 'Session', 'Agenda item', 'Agenda detail', 'cosponsored countries', \n",
    "               'body title number',\t'body title detail', 'body text', 'date', 'footnote', 'scanned', \n",
    "               'file', 'filecountry']\n",
    "\n",
    "# Loop through each folder and PDF file and extract text\n",
    "for country_folder in os.listdir(pdf_folder):\n",
    "    print('---------------' + country_folder + '---------------' )\n",
    "    if not os.path.isdir(os.path.join(pdf_folder, country_folder)):\n",
    "        continue\n",
    "    csv_path = os.path.join(csv_folder, f\"{country_folder}.csv\")\n",
    "    rows = []\n",
    "    # Loop through each file \n",
    "    for pdf_file in os.listdir(os.path.join(pdf_folder, country_folder)):\n",
    "        if not pdf_file.endswith('.pdf'):\n",
    "            continue\n",
    "        # check if this file is old-version\n",
    "        year = int(pdf_file.split('_')[0])\n",
    "        if year < 1994:\n",
    "            continue\n",
    "\n",
    "        pdf_path = os.path.join(pdf_folder, country_folder, pdf_file).replace('\\\\', '/')\n",
    "        print(pdf_path)\n",
    "        # try:\n",
    "        text = extract_text_from_pdf(pdf_path)\n",
    "        text_columns = classify_text_to_column(text)\n",
    "        row = text_columns + [pdf_file, country_folder] #add column K and L\n",
    "        rows.append(row)\n",
    "        print(rows)\n",
    "        df = pd.DataFrame(rows, columns = column_list)\n",
    "        df.to_csv(csv_path, index = False) \n",
    "        # except:\n",
    "        #     print(f\"Error extracting text from {pdf_path}\")\n",
    "        #     continue\n",
    "\n",
    "    # Write the rows to the CSV file\n",
    "    df = pd.DataFrame(rows, columns = column_list)\n",
    "    df.to_csv(csv_path, index = False)  "
   ]
  },
  {
   "cell_type": "code",
   "execution_count": 67,
   "metadata": {},
   "outputs": [
    {
     "data": {
      "text/plain": [
       "['1994',\n",
       " 'N/A',\n",
       " 'Forty-ninth session',\n",
       " '152',\n",
       " 'OBSERVER STATUS FOR THE INTERNATIONAL FEDERATION OF RED CROSSAND RED CRESCENT SOCIETIES IN THE GENERAL ASSEMBLY',\n",
       " 'Afghanistan, Algeria, Antigua _and Barbuda, Armenia,Australia, Austria, Bahamas, Bangladesh, Barbados, Belarus,Belize, Benin, Bhutan, Bolivia, Bulgaria, Burkina Faso,Cambodia, Cameroon, Canada, Cape Verde, Chile, Colombia,Congo, Costa Rica, Céte d’Ivoire, Croatia, Cyprus,Democratic People’s Republic of Korea, Denmark, Djibouti,Dominican Republic, Ecuador, El Salvador, Eritrea, Estonia,Ethiopia, Fiji, Finland, Gambia, Georgia, Ghana, Guatemala,Guinea, Honduras, Hungary, Iceland, Indonesia, Iraq, Jordan,Kazakhstan, Kyrgyzstan, Lao People’s Democratic Republic,Liberia, Libyan Arab Jamahiriya, Liechtenstein, Madagascar,Malawi, Malaysia, Maldives, Mali, Malta, Marshall Islands,Mauritania, Mexico, Micronesia (Federated States of)Mongolia, Morocco, Mozambique, Myanmar, Namibia, Nepal, NewZealand, Norway, Oman, Pakistan, Panama, Papua New Guinea,Peru, Poland, Qatar, Republic of Korea, Saint Lucia, Samoa,San Marino, Saudi Arabia, Senegal, Sierra Leone, Slovakia,Solomon Islands, Sudan, Sweden, Thailand, Togo, Tunisia,Turkey, Ukraine, Vanuatu, Venezuela, Yemen and Zimbabwe',\n",
       " 'N/A',\n",
       " 'N/A',\n",
       " '',\n",
       " '17 October 1994',\n",
       " '',\n",
       " 'yes']"
      ]
     },
     "execution_count": 67,
     "metadata": {},
     "output_type": "execute_result"
    }
   ],
   "source": [
    "classify_text_to_column(text)"
   ]
  },
  {
   "cell_type": "code",
   "execution_count": 60,
   "metadata": {},
   "outputs": [
    {
     "name": "stdout",
     "output_type": "stream",
     "text": [
      "UNITED\n",
      "NATIONS A\n",
      "\n",
      "@) General Assembly oiste,\n",
      "—— 3\n",
      "\n",
      "LIMITED\n",
      "\n",
      "A/49/L.3\n",
      "17 October 1994\n",
      "\n",
      "ORIGINAL: ENGLISH\n",
      "\n",
      "Forty-ninth session\n",
      "Agenda item 152\n",
      "\n",
      "OBSERVER STATUS FOR THE INTERNATIONAL FEDERATION OF RED CROSS\n",
      "AND RED CRESCENT SOCIETIES IN THE GENERAL ASSEMBLY\n",
      "\n",
      "Afghanistan, Algeria, Antigua _and Barbuda, Armenia,\n",
      "Australia, Austria, Bahamas, Bangladesh, Barbados, Belarus,\n",
      "Belize, Benin, Bhutan, Bolivia, Bulgaria, Burkina Faso,\n",
      "Cambodia, Cameroon, Canada, Cape Verde, Chile, Colombia,\n",
      "Congo, Costa Rica, Céte d’Ivoire, Croatia, Cyprus,\n",
      "Democratic People’s Republic of Korea, Denmark, Djibouti,\n",
      "Dominican Republic, Ecuador, El Salvador, Eritrea, Estonia,\n",
      "Ethiopia, Fiji, Finland, Gambia, Georgia, Ghana, Guatemala,\n",
      "Guinea, Honduras, Hungary, Iceland, Indonesia, Iraq, Jordan,\n",
      "Kazakhstan, Kyrgyzstan, Lao People’s Democratic Republic,\n",
      "Liberia, Libyan Arab Jamahiriya, Liechtenstein, Madagascar,\n",
      "Malawi, Malaysia, Maldives, Mali, Malta, Marshall Islands,\n",
      "Mauritania, Mexico, Micronesia (Federated States of)\n",
      "Mongolia, Morocco, Mozambique, Myanmar, Namibia, Nepal, New\n",
      "Zealand, Norway, Oman, Pakistan, Panama, Papua New Guinea,\n",
      "Peru, Poland, Qatar, Republic of Korea, Saint Lucia, Samoa,\n",
      "San Marino, Saudi Arabia, Senegal, Sierra Leone, Slovakia,\n",
      "Solomon Islands, Sudan, Sweden, Thailand, Togo, Tunisia,\n",
      "Turkey, Ukraine, Vanuatu, Venezuela, Yemen and Zimbabwe:\n",
      "\n"
     ]
    }
   ],
   "source": [
    "# delete extracted text\n",
    "split_text = text.split(\"draft resolution\")\n",
    "remain_text = split_text[0]\n",
    "print(remain_text)"
   ]
  },
  {
   "cell_type": "code",
   "execution_count": 56,
   "metadata": {},
   "outputs": [
    {
     "data": {
      "text/plain": [
       "'UNITED\\nNATIONS A\\n\\n@) General Assembly oiste,\\n—— 3\\n\\nLIMITED\\n\\nA/49/L.3\\n17 October 1994\\n\\nORIGINAL: ENGLISH\\n\\nForty-ninth session\\nAgenda item 152\\n\\nOBSERVER STATUS FOR THE INTERNATIONAL FEDERATION OF RED CROSS\\nAND RED CRESCENT SOCIETIES IN THE GENERAL ASSEMBLY\\n\\nAfghanistan, Algeria, Antigua _and Barbuda, Armenia,\\nAustralia, Austria, Bahamas, Bangladesh, Barbados, Belarus,\\nBelize, Benin, Bhutan, Bolivia, Bulgaria, Burkina Faso,\\nCambodia, Cameroon, Canada, Cape Verde, Chile, Colombia,\\nCongo, Costa Rica, Céte d’Ivoire, Croatia, Cyprus,\\nDemocratic People’s Republic of Korea, Denmark, Djibouti,\\nDominican Republic, Ecuador, El Salvador, Eritrea, Estonia,\\nEthiopia, Fiji, Finland, Gambia, Georgia, Ghana, Guatemala,\\nGuinea, Honduras, Hungary, Iceland, Indonesia, Iraq, Jordan,\\nKazakhstan, Kyrgyzstan, Lao People’s Democratic Republic,\\nLiberia, Libyan Arab Jamahiriya, Liechtenstein, Madagascar,\\nMalawi, Malaysia, Maldives, Mali, Malta, Marshall Islands,\\nMauritania, Mexico, Micronesia (Federated States of)\\nMongolia, Morocco, Mozambique, Myanmar, Namibia, Nepal, New\\nZealand, Norway, Oman, Pakistan, Panama, Papua New Guinea,\\nPeru, Poland, Qatar, Republic of Korea, Saint Lucia, Samoa,\\nSan Marino, Saudi Arabia, Senegal, Sierra Leone, Slovakia,\\nSolomon Islands, Sudan, Sweden, Thailand, Togo, Tunisia,\\nTurkey, Ukraine, Vanuatu, Venezuela, Yemen and Zimbabwe:\\ndraft resolution\\n\\nThe General Assembly,\\n\\nRecalling the special functions of the member societies of the\\nInternational Federation of Red Cross and Red Crescent Societies which are\\nrecognized by their respective Governments as auxiliaries to the public\\nauthorities in the humanitarian field on the basis of the Geneva Conventions of\\n12 August 1949,\\n\\nConsidering the specific role of the International Federation of Red Cross\\nand Red Crescent Societies in international humanitarian relations as further\\ndefined by the International Conference of the Red Cross and Red Crescent,\\n\\n94-40328 (E) 171094 Jase\\n\\nA/49/L.3\\nEnglish\\nPage 2\\n\\nDesirous of promoting cooperation between the United Nations and the\\nInternational Federation of Red Cross and Red Crescent Societies,\\n\\n1. Decides to invite the International Federation of Red Cross and Red\\nCrescent Societies to participate in the sessions and the work of the General\\n\\nAssembly in the capacity of observer;\\n\\n2. Requests the Secretary-General to take the necessary action to\\nimplement the present resolution.\\n'"
      ]
     },
     "execution_count": 56,
     "metadata": {},
     "output_type": "execute_result"
    }
   ],
   "source": [
    "test_path = './Dataset/Afghanistan/1994_163336.pdf'\n",
    "extract_text_from_pdf(test_path)"
   ]
  },
  {
   "cell_type": "code",
   "execution_count": 24,
   "metadata": {},
   "outputs": [
    {
     "name": "stdout",
     "output_type": "stream",
     "text": [
      "Agenda item 94\n",
      "\n",
      "RIGHT OF PEOPLES TO SELF-DETERMINATION\n",
      "\n",
      "Afghanistan, Algeria, Bangladesh, Brazil, Cuba, Djibouti,\n",
      "Egypt, Gambia, Ghana, Guinea-Bissau, Indonesia, Jordan,\n",
      "Malaysia, Mali, Malta, Mauritania, Morocco, Namibia,\n",
      "Nigeria, Oman, Pakistan, Qatar, Saudi Arabia, Senegal,\n",
      "Sierra Leone, Tunisia, United Arab Emirates, United Republic\n",
      "of Tanzania, Yemen, Zambia and Zimbabwe: revised draft\n",
      "\n",
      "resolution\n",
      "\n",
      "The right of the\n",
      "['RIGHT OF PEOPLES TO SELF-DETERMINATION', 'Afghanistan, Algeria, Bangladesh, Brazil, Cuba, Djibouti,Egypt, Gambia, Ghana, Guinea-Bissau, Indonesia, Jordan,Malaysia, Mali, Malta, Mauritania, Morocco, Namibia,Nigeria, Oman, Pakistan, Qatar, Saudi Arabia, Senegal,Sierra Leone, Tunisia, United Arab Emirates, United Republicof Tanzania, Yemen, Zambia and Zimbabwe']\n",
      "RIGHT OF PEOPLES TO SELF-DETERMINATION\n",
      "Afghanistan, Algeria, Bangladesh, Brazil, Cuba, Djibouti,Egypt, Gambia, Ghana, Guinea-Bissau, Indonesia, Jordan,Malaysia, Mali, Malta, Mauritania, Morocco, Namibia,Nigeria, Oman, Pakistan, Qatar, Saudi Arabia, Senegal,Sierra Leone, Tunisia, United Arab Emirates, United Republicof Tanzania, Yemen, Zambia and Zimbabw\n"
     ]
    }
   ],
   "source": [
    "text = \"Agenda item 94\\n\\nRIGHT OF PEOPLES TO SELF-DETERMINATION\\n\\nAfghanistan, Algeria, Bangladesh, Brazil, Cuba, Djibouti,\\nEgypt, Gambia, Ghana, Guinea-Bissau, Indonesia, Jordan,\\nMalaysia, Mali, Malta, Mauritania, Morocco, Namibia,\\nNigeria, Oman, Pakistan, Qatar, Saudi Arabia, Senegal,\\nSierra Leone, Tunisia, United Arab Emirates, United Republic\\nof Tanzania, Yemen, Zambia and Zimbabwe: revised draft\\n\\nresolution\\n\\nThe right of the \"\n",
    "# Clean up text\n",
    "text = text.strip()\n",
    "print(text)\n",
    "# Compile regex pattern\n",
    "agenda_detail_pattern = re.compile(r\"Agenda item \\d+(.*?)(:)\", re.DOTALL)\n",
    "#agenda_detail_pattern = r\"Agenda item \\d+(.*?)(?=draft resolution)\"\n",
    "match = agenda_detail_pattern.search(text)\n",
    "\n",
    "if match:\n",
    "    agenda_item_text = match.group(1).strip()\n",
    "    parts = agenda_item_text.split(\"\\n\\n\")\n",
    "    parts = [s.replace('\\n', '') for s in parts]\n",
    "    print(parts)\n",
    "    print(parts[0])\n",
    "    print(parts[1][:-1])"
   ]
  },
  {
   "cell_type": "code",
   "execution_count": null,
   "metadata": {},
   "outputs": [],
   "source": []
  }
 ],
 "metadata": {
  "kernelspec": {
   "display_name": "Python 3",
   "language": "python",
   "name": "python3"
  },
  "language_info": {
   "codemirror_mode": {
    "name": "ipython",
    "version": 3
   },
   "file_extension": ".py",
   "mimetype": "text/x-python",
   "name": "python",
   "nbconvert_exporter": "python",
   "pygments_lexer": "ipython3",
   "version": "3.9.13"
  },
  "orig_nbformat": 4,
  "vscode": {
   "interpreter": {
    "hash": "e458c25decc5a85e5a64c322411a3149390d0cc49d8006d301337b209f73e58a"
   }
  }
 },
 "nbformat": 4,
 "nbformat_minor": 2
}
